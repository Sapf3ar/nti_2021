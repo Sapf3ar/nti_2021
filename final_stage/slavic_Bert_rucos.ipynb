{
  "nbformat": 4,
  "nbformat_minor": 0,
  "metadata": {
    "colab": {
      "name": "slavix_Bert_rucos.ipynb",
      "provenance": [],
      "collapsed_sections": [],
      "machine_shape": "hm"
    },
    "kernelspec": {
      "name": "python3",
      "display_name": "Python 3"
    },
    "accelerator": "GPU"
  },
  "cells": [
    {
      "cell_type": "code",
      "metadata": {
        "colab": {
          "base_uri": "https://localhost:8080/"
        },
        "id": "FyfwqKj0WYN1",
        "outputId": "1f112110-c4b6-4623-9d04-5fb4d5c1f671"
      },
      "source": [
        "!nvidia-smi"
      ],
      "execution_count": null,
      "outputs": [
        {
          "output_type": "stream",
          "text": [
            "Tue Mar  2 07:51:50 2021       \n",
            "+-----------------------------------------------------------------------------+\n",
            "| NVIDIA-SMI 460.39       Driver Version: 460.32.03    CUDA Version: 11.2     |\n",
            "|-------------------------------+----------------------+----------------------+\n",
            "| GPU  Name        Persistence-M| Bus-Id        Disp.A | Volatile Uncorr. ECC |\n",
            "| Fan  Temp  Perf  Pwr:Usage/Cap|         Memory-Usage | GPU-Util  Compute M. |\n",
            "|                               |                      |               MIG M. |\n",
            "|===============================+======================+======================|\n",
            "|   0  Tesla V100-SXM2...  Off  | 00000000:00:04.0 Off |                    0 |\n",
            "| N/A   33C    P0    24W / 300W |      0MiB / 16160MiB |      0%      Default |\n",
            "|                               |                      |                  N/A |\n",
            "+-------------------------------+----------------------+----------------------+\n",
            "                                                                               \n",
            "+-----------------------------------------------------------------------------+\n",
            "| Processes:                                                                  |\n",
            "|  GPU   GI   CI        PID   Type   Process name                  GPU Memory |\n",
            "|        ID   ID                                                   Usage      |\n",
            "|=============================================================================|\n",
            "|  No running processes found                                                 |\n",
            "+-----------------------------------------------------------------------------+\n"
          ],
          "name": "stdout"
        }
      ]
    },
    {
      "cell_type": "code",
      "metadata": {
        "colab": {
          "base_uri": "https://localhost:8080/"
        },
        "id": "hmsnU7J-WdAu",
        "outputId": "145d279e-f3e5-4ca6-ee3b-448fa245ed0f"
      },
      "source": [
        "from google.colab import drive\n",
        "drive.mount('/content/drive')"
      ],
      "execution_count": null,
      "outputs": [
        {
          "output_type": "stream",
          "text": [
            "Mounted at /content/drive\n"
          ],
          "name": "stdout"
        }
      ]
    },
    {
      "cell_type": "code",
      "metadata": {
        "id": "BymAHKNRfMAi"
      },
      "source": [
        "import torch"
      ],
      "execution_count": null,
      "outputs": []
    },
    {
      "cell_type": "code",
      "metadata": {
        "colab": {
          "base_uri": "https://localhost:8080/"
        },
        "id": "_OSMh_ujWc-Q",
        "outputId": "961160cb-2252-4ba6-8e20-3b0543d9ebc7"
      },
      "source": [
        "device = torch.device(\"cuda\" if torch.cuda.is_available() else \"cpu\")\n",
        "\n",
        "if device == torch.device('cpu'):\n",
        "    print('Using cpu')\n",
        "else:\n",
        "    n_gpu = torch.cuda.device_count()\n",
        "    print('Using {} GPUs'.format(torch.cuda.get_device_name(0)))"
      ],
      "execution_count": null,
      "outputs": [
        {
          "output_type": "stream",
          "text": [
            "Using Tesla V100-SXM2-16GB GPUs\n"
          ],
          "name": "stdout"
        }
      ]
    },
    {
      "cell_type": "code",
      "metadata": {
        "colab": {
          "base_uri": "https://localhost:8080/"
        },
        "id": "NaOoInujWc7f",
        "outputId": "df584cf4-530a-4da5-e5ba-ca4c47d9e91a"
      },
      "source": [
        "! pip install pytorch-transformers"
      ],
      "execution_count": null,
      "outputs": [
        {
          "output_type": "stream",
          "text": [
            "Collecting pytorch-transformers\n",
            "\u001b[?25l  Downloading https://files.pythonhosted.org/packages/a3/b7/d3d18008a67e0b968d1ab93ad444fc05699403fa662f634b2f2c318a508b/pytorch_transformers-1.2.0-py3-none-any.whl (176kB)\n",
            "\r\u001b[K     |█▉                              | 10kB 22.6MB/s eta 0:00:01\r\u001b[K     |███▊                            | 20kB 29.8MB/s eta 0:00:01\r\u001b[K     |█████▋                          | 30kB 22.6MB/s eta 0:00:01\r\u001b[K     |███████▍                        | 40kB 18.2MB/s eta 0:00:01\r\u001b[K     |█████████▎                      | 51kB 15.7MB/s eta 0:00:01\r\u001b[K     |███████████▏                    | 61kB 12.1MB/s eta 0:00:01\r\u001b[K     |█████████████                   | 71kB 12.8MB/s eta 0:00:01\r\u001b[K     |██████████████▉                 | 81kB 14.0MB/s eta 0:00:01\r\u001b[K     |████████████████▊               | 92kB 12.9MB/s eta 0:00:01\r\u001b[K     |██████████████████▋             | 102kB 14.0MB/s eta 0:00:01\r\u001b[K     |████████████████████▍           | 112kB 14.0MB/s eta 0:00:01\r\u001b[K     |██████████████████████▎         | 122kB 14.0MB/s eta 0:00:01\r\u001b[K     |████████████████████████▏       | 133kB 14.0MB/s eta 0:00:01\r\u001b[K     |██████████████████████████      | 143kB 14.0MB/s eta 0:00:01\r\u001b[K     |███████████████████████████▉    | 153kB 14.0MB/s eta 0:00:01\r\u001b[K     |█████████████████████████████▊  | 163kB 14.0MB/s eta 0:00:01\r\u001b[K     |███████████████████████████████▋| 174kB 14.0MB/s eta 0:00:01\r\u001b[K     |████████████████████████████████| 184kB 14.0MB/s \n",
            "\u001b[?25hRequirement already satisfied: numpy in /usr/local/lib/python3.7/dist-packages (from pytorch-transformers) (1.19.5)\n",
            "Collecting boto3\n",
            "\u001b[?25l  Downloading https://files.pythonhosted.org/packages/e6/f8/9505c0a9c21ec477631c8e7e377e006ec19280376160ce73a6b8d0702336/boto3-1.17.18-py2.py3-none-any.whl (130kB)\n",
            "\u001b[K     |████████████████████████████████| 133kB 28.3MB/s \n",
            "\u001b[?25hCollecting sentencepiece\n",
            "\u001b[?25l  Downloading https://files.pythonhosted.org/packages/f5/99/e0808cb947ba10f575839c43e8fafc9cc44e4a7a2c8f79c60db48220a577/sentencepiece-0.1.95-cp37-cp37m-manylinux2014_x86_64.whl (1.2MB)\n",
            "\u001b[K     |████████████████████████████████| 1.2MB 28.0MB/s \n",
            "\u001b[?25hCollecting sacremoses\n",
            "\u001b[?25l  Downloading https://files.pythonhosted.org/packages/7d/34/09d19aff26edcc8eb2a01bed8e98f13a1537005d31e95233fd48216eed10/sacremoses-0.0.43.tar.gz (883kB)\n",
            "\u001b[K     |████████████████████████████████| 890kB 58.3MB/s \n",
            "\u001b[?25hRequirement already satisfied: torch>=1.0.0 in /usr/local/lib/python3.7/dist-packages (from pytorch-transformers) (1.7.1+cu101)\n",
            "Requirement already satisfied: requests in /usr/local/lib/python3.7/dist-packages (from pytorch-transformers) (2.23.0)\n",
            "Requirement already satisfied: regex in /usr/local/lib/python3.7/dist-packages (from pytorch-transformers) (2019.12.20)\n",
            "Requirement already satisfied: tqdm in /usr/local/lib/python3.7/dist-packages (from pytorch-transformers) (4.41.1)\n",
            "Collecting s3transfer<0.4.0,>=0.3.0\n",
            "\u001b[?25l  Downloading https://files.pythonhosted.org/packages/ea/43/4b4a1b26eb03a429a4c37ca7fdf369d938bd60018fc194e94b8379b0c77c/s3transfer-0.3.4-py2.py3-none-any.whl (69kB)\n",
            "\u001b[K     |████████████████████████████████| 71kB 10.2MB/s \n",
            "\u001b[?25hCollecting jmespath<1.0.0,>=0.7.1\n",
            "  Downloading https://files.pythonhosted.org/packages/07/cb/5f001272b6faeb23c1c9e0acc04d48eaaf5c862c17709d20e3469c6e0139/jmespath-0.10.0-py2.py3-none-any.whl\n",
            "Collecting botocore<1.21.0,>=1.20.18\n",
            "\u001b[?25l  Downloading https://files.pythonhosted.org/packages/48/42/5add1bc9e32717967c1f1cc7b36053f242c6a23bc36313549c4062e30efc/botocore-1.20.18-py2.py3-none-any.whl (7.3MB)\n",
            "\u001b[K     |████████████████████████████████| 7.3MB 63.3MB/s \n",
            "\u001b[?25hRequirement already satisfied: six in /usr/local/lib/python3.7/dist-packages (from sacremoses->pytorch-transformers) (1.15.0)\n",
            "Requirement already satisfied: click in /usr/local/lib/python3.7/dist-packages (from sacremoses->pytorch-transformers) (7.1.2)\n",
            "Requirement already satisfied: joblib in /usr/local/lib/python3.7/dist-packages (from sacremoses->pytorch-transformers) (1.0.1)\n",
            "Requirement already satisfied: typing-extensions in /usr/local/lib/python3.7/dist-packages (from torch>=1.0.0->pytorch-transformers) (3.7.4.3)\n",
            "Requirement already satisfied: urllib3!=1.25.0,!=1.25.1,<1.26,>=1.21.1 in /usr/local/lib/python3.7/dist-packages (from requests->pytorch-transformers) (1.24.3)\n",
            "Requirement already satisfied: idna<3,>=2.5 in /usr/local/lib/python3.7/dist-packages (from requests->pytorch-transformers) (2.10)\n",
            "Requirement already satisfied: chardet<4,>=3.0.2 in /usr/local/lib/python3.7/dist-packages (from requests->pytorch-transformers) (3.0.4)\n",
            "Requirement already satisfied: certifi>=2017.4.17 in /usr/local/lib/python3.7/dist-packages (from requests->pytorch-transformers) (2020.12.5)\n",
            "Requirement already satisfied: python-dateutil<3.0.0,>=2.1 in /usr/local/lib/python3.7/dist-packages (from botocore<1.21.0,>=1.20.18->boto3->pytorch-transformers) (2.8.1)\n",
            "Building wheels for collected packages: sacremoses\n",
            "  Building wheel for sacremoses (setup.py) ... \u001b[?25l\u001b[?25hdone\n",
            "  Created wheel for sacremoses: filename=sacremoses-0.0.43-cp37-none-any.whl size=893262 sha256=c1a67ce43020022355296d89448fc39486713921a4d43fc4f0e1518bf311444b\n",
            "  Stored in directory: /root/.cache/pip/wheels/29/3c/fd/7ce5c3f0666dab31a50123635e6fb5e19ceb42ce38d4e58f45\n",
            "Successfully built sacremoses\n",
            "\u001b[31mERROR: botocore 1.20.18 has requirement urllib3<1.27,>=1.25.4, but you'll have urllib3 1.24.3 which is incompatible.\u001b[0m\n",
            "Installing collected packages: jmespath, botocore, s3transfer, boto3, sentencepiece, sacremoses, pytorch-transformers\n",
            "Successfully installed boto3-1.17.18 botocore-1.20.18 jmespath-0.10.0 pytorch-transformers-1.2.0 s3transfer-0.3.4 sacremoses-0.0.43 sentencepiece-0.1.95\n"
          ],
          "name": "stdout"
        }
      ]
    },
    {
      "cell_type": "code",
      "metadata": {
        "colab": {
          "base_uri": "https://localhost:8080/"
        },
        "id": "NYy2EZ4kk59V",
        "outputId": "9661b553-0abc-4b96-891a-53e36cb0b9b7"
      },
      "source": [
        "! pip install transformers"
      ],
      "execution_count": null,
      "outputs": [
        {
          "output_type": "stream",
          "text": [
            "Collecting transformers\n",
            "\u001b[?25l  Downloading https://files.pythonhosted.org/packages/f9/54/5ca07ec9569d2f232f3166de5457b63943882f7950ddfcc887732fc7fb23/transformers-4.3.3-py3-none-any.whl (1.9MB)\n",
            "\r\u001b[K     |▏                               | 10kB 23.7MB/s eta 0:00:01\r\u001b[K     |▍                               | 20kB 31.7MB/s eta 0:00:01\r\u001b[K     |▌                               | 30kB 27.7MB/s eta 0:00:01\r\u001b[K     |▊                               | 40kB 21.1MB/s eta 0:00:01\r\u001b[K     |▉                               | 51kB 14.6MB/s eta 0:00:01\r\u001b[K     |█                               | 61kB 13.9MB/s eta 0:00:01\r\u001b[K     |█▏                              | 71kB 13.6MB/s eta 0:00:01\r\u001b[K     |█▍                              | 81kB 14.8MB/s eta 0:00:01\r\u001b[K     |█▌                              | 92kB 15.2MB/s eta 0:00:01\r\u001b[K     |█▊                              | 102kB 13.8MB/s eta 0:00:01\r\u001b[K     |██                              | 112kB 13.8MB/s eta 0:00:01\r\u001b[K     |██                              | 122kB 13.8MB/s eta 0:00:01\r\u001b[K     |██▎                             | 133kB 13.8MB/s eta 0:00:01\r\u001b[K     |██▍                             | 143kB 13.8MB/s eta 0:00:01\r\u001b[K     |██▋                             | 153kB 13.8MB/s eta 0:00:01\r\u001b[K     |██▊                             | 163kB 13.8MB/s eta 0:00:01\r\u001b[K     |███                             | 174kB 13.8MB/s eta 0:00:01\r\u001b[K     |███                             | 184kB 13.8MB/s eta 0:00:01\r\u001b[K     |███▎                            | 194kB 13.8MB/s eta 0:00:01\r\u001b[K     |███▌                            | 204kB 13.8MB/s eta 0:00:01\r\u001b[K     |███▋                            | 215kB 13.8MB/s eta 0:00:01\r\u001b[K     |███▉                            | 225kB 13.8MB/s eta 0:00:01\r\u001b[K     |████                            | 235kB 13.8MB/s eta 0:00:01\r\u001b[K     |████▏                           | 245kB 13.8MB/s eta 0:00:01\r\u001b[K     |████▎                           | 256kB 13.8MB/s eta 0:00:01\r\u001b[K     |████▌                           | 266kB 13.8MB/s eta 0:00:01\r\u001b[K     |████▋                           | 276kB 13.8MB/s eta 0:00:01\r\u001b[K     |████▉                           | 286kB 13.8MB/s eta 0:00:01\r\u001b[K     |█████                           | 296kB 13.8MB/s eta 0:00:01\r\u001b[K     |█████▏                          | 307kB 13.8MB/s eta 0:00:01\r\u001b[K     |█████▍                          | 317kB 13.8MB/s eta 0:00:01\r\u001b[K     |█████▌                          | 327kB 13.8MB/s eta 0:00:01\r\u001b[K     |█████▊                          | 337kB 13.8MB/s eta 0:00:01\r\u001b[K     |█████▉                          | 348kB 13.8MB/s eta 0:00:01\r\u001b[K     |██████                          | 358kB 13.8MB/s eta 0:00:01\r\u001b[K     |██████▏                         | 368kB 13.8MB/s eta 0:00:01\r\u001b[K     |██████▍                         | 378kB 13.8MB/s eta 0:00:01\r\u001b[K     |██████▋                         | 389kB 13.8MB/s eta 0:00:01\r\u001b[K     |██████▊                         | 399kB 13.8MB/s eta 0:00:01\r\u001b[K     |███████                         | 409kB 13.8MB/s eta 0:00:01\r\u001b[K     |███████                         | 419kB 13.8MB/s eta 0:00:01\r\u001b[K     |███████▎                        | 430kB 13.8MB/s eta 0:00:01\r\u001b[K     |███████▍                        | 440kB 13.8MB/s eta 0:00:01\r\u001b[K     |███████▋                        | 450kB 13.8MB/s eta 0:00:01\r\u001b[K     |███████▊                        | 460kB 13.8MB/s eta 0:00:01\r\u001b[K     |████████                        | 471kB 13.8MB/s eta 0:00:01\r\u001b[K     |████████▏                       | 481kB 13.8MB/s eta 0:00:01\r\u001b[K     |████████▎                       | 491kB 13.8MB/s eta 0:00:01\r\u001b[K     |████████▌                       | 501kB 13.8MB/s eta 0:00:01\r\u001b[K     |████████▋                       | 512kB 13.8MB/s eta 0:00:01\r\u001b[K     |████████▉                       | 522kB 13.8MB/s eta 0:00:01\r\u001b[K     |█████████                       | 532kB 13.8MB/s eta 0:00:01\r\u001b[K     |█████████▏                      | 542kB 13.8MB/s eta 0:00:01\r\u001b[K     |█████████▎                      | 552kB 13.8MB/s eta 0:00:01\r\u001b[K     |█████████▌                      | 563kB 13.8MB/s eta 0:00:01\r\u001b[K     |█████████▊                      | 573kB 13.8MB/s eta 0:00:01\r\u001b[K     |█████████▉                      | 583kB 13.8MB/s eta 0:00:01\r\u001b[K     |██████████                      | 593kB 13.8MB/s eta 0:00:01\r\u001b[K     |██████████▏                     | 604kB 13.8MB/s eta 0:00:01\r\u001b[K     |██████████▍                     | 614kB 13.8MB/s eta 0:00:01\r\u001b[K     |██████████▌                     | 624kB 13.8MB/s eta 0:00:01\r\u001b[K     |██████████▊                     | 634kB 13.8MB/s eta 0:00:01\r\u001b[K     |██████████▉                     | 645kB 13.8MB/s eta 0:00:01\r\u001b[K     |███████████                     | 655kB 13.8MB/s eta 0:00:01\r\u001b[K     |███████████▎                    | 665kB 13.8MB/s eta 0:00:01\r\u001b[K     |███████████▍                    | 675kB 13.8MB/s eta 0:00:01\r\u001b[K     |███████████▋                    | 686kB 13.8MB/s eta 0:00:01\r\u001b[K     |███████████▊                    | 696kB 13.8MB/s eta 0:00:01\r\u001b[K     |████████████                    | 706kB 13.8MB/s eta 0:00:01\r\u001b[K     |████████████                    | 716kB 13.8MB/s eta 0:00:01\r\u001b[K     |████████████▎                   | 727kB 13.8MB/s eta 0:00:01\r\u001b[K     |████████████▍                   | 737kB 13.8MB/s eta 0:00:01\r\u001b[K     |████████████▋                   | 747kB 13.8MB/s eta 0:00:01\r\u001b[K     |████████████▉                   | 757kB 13.8MB/s eta 0:00:01\r\u001b[K     |█████████████                   | 768kB 13.8MB/s eta 0:00:01\r\u001b[K     |█████████████▏                  | 778kB 13.8MB/s eta 0:00:01\r\u001b[K     |█████████████▎                  | 788kB 13.8MB/s eta 0:00:01\r\u001b[K     |█████████████▌                  | 798kB 13.8MB/s eta 0:00:01\r\u001b[K     |█████████████▋                  | 808kB 13.8MB/s eta 0:00:01\r\u001b[K     |█████████████▉                  | 819kB 13.8MB/s eta 0:00:01\r\u001b[K     |██████████████                  | 829kB 13.8MB/s eta 0:00:01\r\u001b[K     |██████████████▏                 | 839kB 13.8MB/s eta 0:00:01\r\u001b[K     |██████████████▍                 | 849kB 13.8MB/s eta 0:00:01\r\u001b[K     |██████████████▌                 | 860kB 13.8MB/s eta 0:00:01\r\u001b[K     |██████████████▊                 | 870kB 13.8MB/s eta 0:00:01\r\u001b[K     |██████████████▉                 | 880kB 13.8MB/s eta 0:00:01\r\u001b[K     |███████████████                 | 890kB 13.8MB/s eta 0:00:01\r\u001b[K     |███████████████▏                | 901kB 13.8MB/s eta 0:00:01\r\u001b[K     |███████████████▍                | 911kB 13.8MB/s eta 0:00:01\r\u001b[K     |███████████████▌                | 921kB 13.8MB/s eta 0:00:01\r\u001b[K     |███████████████▊                | 931kB 13.8MB/s eta 0:00:01\r\u001b[K     |████████████████                | 942kB 13.8MB/s eta 0:00:01\r\u001b[K     |████████████████                | 952kB 13.8MB/s eta 0:00:01\r\u001b[K     |████████████████▎               | 962kB 13.8MB/s eta 0:00:01\r\u001b[K     |████████████████▍               | 972kB 13.8MB/s eta 0:00:01\r\u001b[K     |████████████████▋               | 983kB 13.8MB/s eta 0:00:01\r\u001b[K     |████████████████▊               | 993kB 13.8MB/s eta 0:00:01\r\u001b[K     |█████████████████               | 1.0MB 13.8MB/s eta 0:00:01\r\u001b[K     |█████████████████               | 1.0MB 13.8MB/s eta 0:00:01\r\u001b[K     |█████████████████▎              | 1.0MB 13.8MB/s eta 0:00:01\r\u001b[K     |█████████████████▍              | 1.0MB 13.8MB/s eta 0:00:01\r\u001b[K     |█████████████████▋              | 1.0MB 13.8MB/s eta 0:00:01\r\u001b[K     |█████████████████▉              | 1.1MB 13.8MB/s eta 0:00:01\r\u001b[K     |██████████████████              | 1.1MB 13.8MB/s eta 0:00:01\r\u001b[K     |██████████████████▏             | 1.1MB 13.8MB/s eta 0:00:01\r\u001b[K     |██████████████████▎             | 1.1MB 13.8MB/s eta 0:00:01\r\u001b[K     |██████████████████▌             | 1.1MB 13.8MB/s eta 0:00:01\r\u001b[K     |██████████████████▋             | 1.1MB 13.8MB/s eta 0:00:01\r\u001b[K     |██████████████████▉             | 1.1MB 13.8MB/s eta 0:00:01\r\u001b[K     |███████████████████             | 1.1MB 13.8MB/s eta 0:00:01\r\u001b[K     |███████████████████▏            | 1.1MB 13.8MB/s eta 0:00:01\r\u001b[K     |███████████████████▍            | 1.1MB 13.8MB/s eta 0:00:01\r\u001b[K     |███████████████████▌            | 1.2MB 13.8MB/s eta 0:00:01\r\u001b[K     |███████████████████▊            | 1.2MB 13.8MB/s eta 0:00:01\r\u001b[K     |███████████████████▉            | 1.2MB 13.8MB/s eta 0:00:01\r\u001b[K     |████████████████████            | 1.2MB 13.8MB/s eta 0:00:01\r\u001b[K     |████████████████████▏           | 1.2MB 13.8MB/s eta 0:00:01\r\u001b[K     |████████████████████▍           | 1.2MB 13.8MB/s eta 0:00:01\r\u001b[K     |████████████████████▌           | 1.2MB 13.8MB/s eta 0:00:01\r\u001b[K     |████████████████████▊           | 1.2MB 13.8MB/s eta 0:00:01\r\u001b[K     |█████████████████████           | 1.2MB 13.8MB/s eta 0:00:01\r\u001b[K     |█████████████████████           | 1.2MB 13.8MB/s eta 0:00:01\r\u001b[K     |█████████████████████▎          | 1.3MB 13.8MB/s eta 0:00:01\r\u001b[K     |█████████████████████▍          | 1.3MB 13.8MB/s eta 0:00:01\r\u001b[K     |█████████████████████▋          | 1.3MB 13.8MB/s eta 0:00:01\r\u001b[K     |█████████████████████▊          | 1.3MB 13.8MB/s eta 0:00:01\r\u001b[K     |██████████████████████          | 1.3MB 13.8MB/s eta 0:00:01\r\u001b[K     |██████████████████████          | 1.3MB 13.8MB/s eta 0:00:01\r\u001b[K     |██████████████████████▎         | 1.3MB 13.8MB/s eta 0:00:01\r\u001b[K     |██████████████████████▌         | 1.3MB 13.8MB/s eta 0:00:01\r\u001b[K     |██████████████████████▋         | 1.3MB 13.8MB/s eta 0:00:01\r\u001b[K     |██████████████████████▉         | 1.4MB 13.8MB/s eta 0:00:01\r\u001b[K     |███████████████████████         | 1.4MB 13.8MB/s eta 0:00:01\r\u001b[K     |███████████████████████▏        | 1.4MB 13.8MB/s eta 0:00:01\r\u001b[K     |███████████████████████▎        | 1.4MB 13.8MB/s eta 0:00:01\r\u001b[K     |███████████████████████▌        | 1.4MB 13.8MB/s eta 0:00:01\r\u001b[K     |███████████████████████▋        | 1.4MB 13.8MB/s eta 0:00:01\r\u001b[K     |███████████████████████▉        | 1.4MB 13.8MB/s eta 0:00:01\r\u001b[K     |████████████████████████        | 1.4MB 13.8MB/s eta 0:00:01\r\u001b[K     |████████████████████████▏       | 1.4MB 13.8MB/s eta 0:00:01\r\u001b[K     |████████████████████████▍       | 1.4MB 13.8MB/s eta 0:00:01\r\u001b[K     |████████████████████████▌       | 1.5MB 13.8MB/s eta 0:00:01\r\u001b[K     |████████████████████████▊       | 1.5MB 13.8MB/s eta 0:00:01\r\u001b[K     |████████████████████████▉       | 1.5MB 13.8MB/s eta 0:00:01\r\u001b[K     |█████████████████████████       | 1.5MB 13.8MB/s eta 0:00:01\r\u001b[K     |█████████████████████████▏      | 1.5MB 13.8MB/s eta 0:00:01\r\u001b[K     |█████████████████████████▍      | 1.5MB 13.8MB/s eta 0:00:01\r\u001b[K     |█████████████████████████▋      | 1.5MB 13.8MB/s eta 0:00:01\r\u001b[K     |█████████████████████████▊      | 1.5MB 13.8MB/s eta 0:00:01\r\u001b[K     |██████████████████████████      | 1.5MB 13.8MB/s eta 0:00:01\r\u001b[K     |██████████████████████████      | 1.5MB 13.8MB/s eta 0:00:01\r\u001b[K     |██████████████████████████▎     | 1.6MB 13.8MB/s eta 0:00:01\r\u001b[K     |██████████████████████████▍     | 1.6MB 13.8MB/s eta 0:00:01\r\u001b[K     |██████████████████████████▋     | 1.6MB 13.8MB/s eta 0:00:01\r\u001b[K     |██████████████████████████▊     | 1.6MB 13.8MB/s eta 0:00:01\r\u001b[K     |███████████████████████████     | 1.6MB 13.8MB/s eta 0:00:01\r\u001b[K     |███████████████████████████▏    | 1.6MB 13.8MB/s eta 0:00:01\r\u001b[K     |███████████████████████████▎    | 1.6MB 13.8MB/s eta 0:00:01\r\u001b[K     |███████████████████████████▌    | 1.6MB 13.8MB/s eta 0:00:01\r\u001b[K     |███████████████████████████▋    | 1.6MB 13.8MB/s eta 0:00:01\r\u001b[K     |███████████████████████████▉    | 1.6MB 13.8MB/s eta 0:00:01\r\u001b[K     |████████████████████████████    | 1.7MB 13.8MB/s eta 0:00:01\r\u001b[K     |████████████████████████████▏   | 1.7MB 13.8MB/s eta 0:00:01\r\u001b[K     |████████████████████████████▎   | 1.7MB 13.8MB/s eta 0:00:01\r\u001b[K     |████████████████████████████▌   | 1.7MB 13.8MB/s eta 0:00:01\r\u001b[K     |████████████████████████████▊   | 1.7MB 13.8MB/s eta 0:00:01\r\u001b[K     |████████████████████████████▉   | 1.7MB 13.8MB/s eta 0:00:01\r\u001b[K     |█████████████████████████████   | 1.7MB 13.8MB/s eta 0:00:01\r\u001b[K     |█████████████████████████████▏  | 1.7MB 13.8MB/s eta 0:00:01\r\u001b[K     |█████████████████████████████▍  | 1.7MB 13.8MB/s eta 0:00:01\r\u001b[K     |█████████████████████████████▌  | 1.8MB 13.8MB/s eta 0:00:01\r\u001b[K     |█████████████████████████████▊  | 1.8MB 13.8MB/s eta 0:00:01\r\u001b[K     |█████████████████████████████▉  | 1.8MB 13.8MB/s eta 0:00:01\r\u001b[K     |██████████████████████████████  | 1.8MB 13.8MB/s eta 0:00:01\r\u001b[K     |██████████████████████████████▎ | 1.8MB 13.8MB/s eta 0:00:01\r\u001b[K     |██████████████████████████████▍ | 1.8MB 13.8MB/s eta 0:00:01\r\u001b[K     |██████████████████████████████▋ | 1.8MB 13.8MB/s eta 0:00:01\r\u001b[K     |██████████████████████████████▊ | 1.8MB 13.8MB/s eta 0:00:01\r\u001b[K     |███████████████████████████████ | 1.8MB 13.8MB/s eta 0:00:01\r\u001b[K     |███████████████████████████████ | 1.8MB 13.8MB/s eta 0:00:01\r\u001b[K     |███████████████████████████████▎| 1.9MB 13.8MB/s eta 0:00:01\r\u001b[K     |███████████████████████████████▍| 1.9MB 13.8MB/s eta 0:00:01\r\u001b[K     |███████████████████████████████▋| 1.9MB 13.8MB/s eta 0:00:01\r\u001b[K     |███████████████████████████████▉| 1.9MB 13.8MB/s eta 0:00:01\r\u001b[K     |████████████████████████████████| 1.9MB 13.8MB/s eta 0:00:01\r\u001b[K     |████████████████████████████████| 1.9MB 13.8MB/s \n",
            "\u001b[?25hRequirement already satisfied: sacremoses in /usr/local/lib/python3.7/dist-packages (from transformers) (0.0.43)\n",
            "Collecting tokenizers<0.11,>=0.10.1\n",
            "\u001b[?25l  Downloading https://files.pythonhosted.org/packages/71/23/2ddc317b2121117bf34dd00f5b0de194158f2a44ee2bf5e47c7166878a97/tokenizers-0.10.1-cp37-cp37m-manylinux2010_x86_64.whl (3.2MB)\n",
            "\u001b[K     |████████████████████████████████| 3.2MB 55.4MB/s \n",
            "\u001b[?25hRequirement already satisfied: regex!=2019.12.17 in /usr/local/lib/python3.7/dist-packages (from transformers) (2019.12.20)\n",
            "Requirement already satisfied: packaging in /usr/local/lib/python3.7/dist-packages (from transformers) (20.9)\n",
            "Requirement already satisfied: numpy>=1.17 in /usr/local/lib/python3.7/dist-packages (from transformers) (1.19.5)\n",
            "Requirement already satisfied: tqdm>=4.27 in /usr/local/lib/python3.7/dist-packages (from transformers) (4.41.1)\n",
            "Requirement already satisfied: filelock in /usr/local/lib/python3.7/dist-packages (from transformers) (3.0.12)\n",
            "Requirement already satisfied: importlib-metadata; python_version < \"3.8\" in /usr/local/lib/python3.7/dist-packages (from transformers) (3.7.0)\n",
            "Requirement already satisfied: requests in /usr/local/lib/python3.7/dist-packages (from transformers) (2.23.0)\n",
            "Requirement already satisfied: six in /usr/local/lib/python3.7/dist-packages (from sacremoses->transformers) (1.15.0)\n",
            "Requirement already satisfied: click in /usr/local/lib/python3.7/dist-packages (from sacremoses->transformers) (7.1.2)\n",
            "Requirement already satisfied: joblib in /usr/local/lib/python3.7/dist-packages (from sacremoses->transformers) (1.0.1)\n",
            "Requirement already satisfied: pyparsing>=2.0.2 in /usr/local/lib/python3.7/dist-packages (from packaging->transformers) (2.4.7)\n",
            "Requirement already satisfied: typing-extensions>=3.6.4; python_version < \"3.8\" in /usr/local/lib/python3.7/dist-packages (from importlib-metadata; python_version < \"3.8\"->transformers) (3.7.4.3)\n",
            "Requirement already satisfied: zipp>=0.5 in /usr/local/lib/python3.7/dist-packages (from importlib-metadata; python_version < \"3.8\"->transformers) (3.4.0)\n",
            "Requirement already satisfied: certifi>=2017.4.17 in /usr/local/lib/python3.7/dist-packages (from requests->transformers) (2020.12.5)\n",
            "Requirement already satisfied: chardet<4,>=3.0.2 in /usr/local/lib/python3.7/dist-packages (from requests->transformers) (3.0.4)\n",
            "Requirement already satisfied: idna<3,>=2.5 in /usr/local/lib/python3.7/dist-packages (from requests->transformers) (2.10)\n",
            "Requirement already satisfied: urllib3!=1.25.0,!=1.25.1,<1.26,>=1.21.1 in /usr/local/lib/python3.7/dist-packages (from requests->transformers) (1.24.3)\n",
            "Installing collected packages: tokenizers, transformers\n",
            "Successfully installed tokenizers-0.10.1 transformers-4.3.3\n"
          ],
          "name": "stdout"
        }
      ]
    },
    {
      "cell_type": "code",
      "metadata": {
        "id": "1MI2bJpEWc42"
      },
      "source": [
        "import torch\n",
        "from torch.utils.data import TensorDataset, DataLoader, RandomSampler, SequentialSampler\n",
        "from keras.preprocessing.sequence import pad_sequences\n",
        "from sklearn.model_selection import train_test_split\n",
        "from pytorch_transformers import BertTokenizer, BertConfig\n",
        "from pytorch_transformers import AdamW, BertForSequenceClassification\n",
        "from tqdm import tqdm, trange\n",
        "import pandas as pd\n",
        "import io\n",
        "import numpy as np\n",
        "from sklearn.metrics import accuracy_score\n",
        "import matplotlib.pyplot as plt\n",
        "import json\n",
        "from sklearn.model_selection import train_test_split\n",
        "from sklearn.metrics import accuracy_score, f1_score, roc_auc_score\n",
        "from tqdm.notebook import tqdm\n",
        "import re"
      ],
      "execution_count": null,
      "outputs": []
    },
    {
      "cell_type": "code",
      "metadata": {
        "id": "mBTYOmbRWczW"
      },
      "source": [
        "with open(\"/content/drive/MyDrive/onti/RuCoS/rucos_train.jsonl\", \"r\") as read_file:\n",
        "    json_list_train = list(read_file)\n",
        "train_data = [json.loads(line) for line in json_list_train]\n",
        "\n",
        "with open(\"/content/drive/MyDrive/onti/RuCoS/rucos_val.jsonl\", \"r\") as read_file:\n",
        "    json_list_val = list(read_file)\n",
        "val_data = [json.loads(line) for line in json_list_val]\n",
        "\n",
        "with open(\"/content/drive/MyDrive/onti/RuCoS/rucos_test.jsonl\", \"r\") as read_file:\n",
        "    json_list_test = list(read_file)\n",
        "test_data = [json.loads(line) for line in json_list_test]"
      ],
      "execution_count": null,
      "outputs": []
    },
    {
      "cell_type": "code",
      "metadata": {
        "id": "6sBkay0wWcwc"
      },
      "source": [
        "def prepare(data):\n",
        "  prepared_data = []\n",
        "  entities = []\n",
        "  querys = []\n",
        "  labels = []\n",
        "\n",
        "  for i, sample in enumerate(data):\n",
        "    context = sample['passage']['text']\n",
        "    prepared_data.append(context)\n",
        "\n",
        "    variants = []\n",
        "    for e in sample['passage']['entities']:\n",
        "      end = e['end']\n",
        "      start = e['start']\n",
        "      variants.append(context[start:end])\n",
        "    entities.append(tuple(set(variants)))\n",
        "\n",
        "    querys.append(sample['qas'][0]['query'])\n",
        "\n",
        "    if 'answers' in sample['qas'][0].keys():\n",
        "      answers = []\n",
        "      for answer in sample['qas'][0]['answers']:\n",
        "        answers.append(answer['text'])\n",
        "      labels.append(tuple(set(answers)))\n",
        "  \n",
        "  return [prepared_data, entities, querys, labels]"
      ],
      "execution_count": null,
      "outputs": []
    },
    {
      "cell_type": "code",
      "metadata": {
        "id": "JKit3qYeWcrS"
      },
      "source": [
        "prepare_train_data = prepare(train_data)\n",
        "prepare_val_data = prepare(val_data)\n",
        "prepare_test_data = prepare(test_data)"
      ],
      "execution_count": null,
      "outputs": []
    },
    {
      "cell_type": "code",
      "metadata": {
        "id": "T6aIaUd7yzw_"
      },
      "source": [
        "from transformers import BertTokenizer, BertConfig, AutoTokenizer, AutoModel, AdamW\n",
        "\n",
        "def create_dataloader(data, batch_size=13):\n",
        "  # Объединение\n",
        "  sentences = []\n",
        "  labels = []\n",
        "  for minibatch in zip(*data):\n",
        "    prepared_data, entities, querys, answers = minibatch\n",
        "    prepared_data = re.sub('@header|@highlight|@context', '', prepared_data)\n",
        "    context_texts = prepared_data.split('.')\n",
        "    for ent in entities:\n",
        "      context = ''\n",
        "      for text in context_texts:\n",
        "        if text.find(ent) > 0:\n",
        "          context += ' ' + text\n",
        "          \n",
        "      sub_query = re.sub('@placeholder', '[MASK]', querys)\n",
        "      sentences.append(\"[CLS] \" + context + sub_query + \" [SEP] \" + ent)\n",
        "      labels.append([int(ent in answers)])\n",
        "  sentences = np.array(sentences)\n",
        "  labels = np.array(labels)\n",
        "  \n",
        "  # Балансировка выборки\n",
        "  zero_mask = labels[:, 0] == 0\n",
        "  ones_mask = labels[:, 0] == 1\n",
        "  sentences_balanced = np.hstack((sentences[ones_mask], sentences[zero_mask][:ones_mask.sum()]))\n",
        "  labels_balanced = np.vstack((labels[ones_mask], labels[zero_mask][:ones_mask.sum()]))\n",
        "\n",
        "  # токенезация\n",
        "  tokenizer = AutoTokenizer.from_pretrained(\"DeepPavlov/rubert-base-cased-sentence\", do_lower_case=False)\n",
        "  tokenized_texts = [tokenizer.tokenize(sent) for sent in sentences_balanced]\n",
        "  input_ids = [tokenizer.convert_tokens_to_ids(x) for x in tokenized_texts]\n",
        "  max_e = 0\n",
        "  for t in input_ids:\n",
        "    if len(t) > max_e:\n",
        "      max_e = len(t)\n",
        "  print(max_e)\n",
        "  input_ids = pad_sequences(\n",
        "      input_ids,\n",
        "      maxlen=512,\n",
        "      dtype=\"long\",\n",
        "      truncating=\"pre\",\n",
        "      padding=\"post\"\n",
        "      ) \n",
        "  # Получение маски\n",
        "  attention_masks = [[float(i>0) for i in seq] for seq in input_ids]\n",
        "\n",
        "  # в тензоры\n",
        "  train_inputs = torch.tensor(input_ids)\n",
        "  train_labels = torch.tensor(labels_balanced)\n",
        "  train_masks = torch.tensor(attention_masks)\n",
        "\n",
        "  train_data = TensorDataset(train_inputs, train_masks, train_labels)\n",
        "  dataloader = DataLoader(\n",
        "      train_data,\n",
        "      sampler=RandomSampler(train_data),\n",
        "      batch_size=batch_size\n",
        "  )\n",
        "\n",
        "  return dataloader"
      ],
      "execution_count": null,
      "outputs": []
    },
    {
      "cell_type": "code",
      "metadata": {
        "colab": {
          "base_uri": "https://localhost:8080/"
        },
        "id": "hzs-AsM91EDl",
        "outputId": "34ee441b-e4c9-40cb-ad7c-ca456e2c552e"
      },
      "source": [
        "train_dataloader = create_dataloader(prepare_train_data)"
      ],
      "execution_count": null,
      "outputs": [
        {
          "output_type": "stream",
          "text": [
            "318\n"
          ],
          "name": "stdout"
        }
      ]
    },
    {
      "cell_type": "code",
      "metadata": {
        "colab": {
          "base_uri": "https://localhost:8080/"
        },
        "id": "jD3mmgK6L7w1",
        "outputId": "2a02c5c3-e309-4a9f-c37d-cffe5aaf37a8"
      },
      "source": [
        "validation_dataloader = create_dataloader(prepare_val_data)"
      ],
      "execution_count": null,
      "outputs": [
        {
          "output_type": "stream",
          "text": [
            "284\n"
          ],
          "name": "stdout"
        }
      ]
    },
    {
      "cell_type": "code",
      "metadata": {
        "id": "NT9KE74Koapu"
      },
      "source": [
        "from transformers import BertForSequenceClassification, AutoModelForSequenceClassification"
      ],
      "execution_count": null,
      "outputs": []
    },
    {
      "cell_type": "code",
      "metadata": {
        "colab": {
          "base_uri": "https://localhost:8080/"
        },
        "id": "S8I4cm7Xnsm3",
        "outputId": "12de30a2-7a97-4818-9e6c-ee92892cdc46"
      },
      "source": [
        "model = BertForSequenceClassification.from_pretrained(\"DeepPavlov/rubert-base-cased-sentence\", num_labels=2)\n",
        "model.to(device)\n",
        "None"
      ],
      "execution_count": null,
      "outputs": [
        {
          "output_type": "stream",
          "text": [
            "Some weights of BertForSequenceClassification were not initialized from the model checkpoint at DeepPavlov/rubert-base-cased-sentence and are newly initialized: ['classifier.bias', 'classifier.weight']\n",
            "You should probably TRAIN this model on a down-stream task to be able to use it for predictions and inference.\n"
          ],
          "name": "stderr"
        }
      ]
    },
    {
      "cell_type": "code",
      "metadata": {
        "id": "0NqneMxPnskb"
      },
      "source": [
        "param_optimizer = list(model.named_parameters())\n",
        "no_decay = ['bias', 'gamma', 'beta']\n",
        "optimizer_grouped_parameters = [\n",
        "    {'params': [p for n, p in param_optimizer if not any(nd in n for nd in no_decay)],\n",
        "     'weight_decay_rate': 0.01},\n",
        "    {'params': [p for n, p in param_optimizer if any(nd in n for nd in no_decay)],\n",
        "     'weight_decay_rate': 0.0}\n",
        "]\n",
        "\n",
        "optimizer = AdamW(optimizer_grouped_parameters, lr=2e-5)"
      ],
      "execution_count": null,
      "outputs": []
    },
    {
      "cell_type": "code",
      "metadata": {
        "id": "sGheDO1UIFdb"
      },
      "source": [
        "def double_exponential_smoothing(series, alpha, beta):\n",
        "    result = [series[0]]\n",
        "    for n in range(1, len(series)+1):\n",
        "        if n == 1:\n",
        "            level, trend = series[0], series[1] - series[0]\n",
        "        if n >= len(series): # прогнозируем\n",
        "            value = result[-1]\n",
        "        else:\n",
        "            value = series[n]\n",
        "        last_level, level = level, alpha*value + (1-alpha)*(level+trend)\n",
        "        trend = beta*(level-last_level) + (1-beta)*trend\n",
        "        result.append(level+trend)\n",
        "    return result"
      ],
      "execution_count": null,
      "outputs": []
    },
    {
      "cell_type": "code",
      "metadata": {
        "colab": {
          "base_uri": "https://localhost:8080/",
          "height": 295
        },
        "id": "otQ6oGkunsiY",
        "outputId": "8f3cf58b-4a04-4635-c0e2-1b7bb78226e9"
      },
      "source": [
        "from IPython.display import clear_output\n",
        "\n",
        "# Будем сохранять loss во время обучения\n",
        "# и рисовать график в режиме реального времени\n",
        "train_loss_set = []\n",
        "train_loss = 0\n",
        "\n",
        "\n",
        "# Обучение\n",
        "# Переводим модель в training mode\n",
        "model.train()\n",
        "\n",
        "\n",
        "for step ,batch in enumerate(train_dataloader):\n",
        "    # if step > 2000:\n",
        "    #   break\n",
        "    # добавляем батч для вычисления на GPU\n",
        "    batch = tuple(t.to(device) for t in batch)\n",
        "    # Распаковываем данные из dataloader\n",
        "    b_input_ids, b_input_mask, b_labels = batch\n",
        "    \n",
        "    # если не сделать .zero_grad(), градиенты будут накапливаться\n",
        "    optimizer.zero_grad()\n",
        "    \n",
        "    # Forward pass\n",
        "    loss = model(b_input_ids, token_type_ids=None, attention_mask=b_input_mask, labels=b_labels)\n",
        "    train_loss_set.append(loss[0].item())  \n",
        "    \n",
        "    # Backward pass\n",
        "    loss[0].backward()\n",
        "    \n",
        "    # Обновляем параметры и делаем шаг используя посчитанные градиенты\n",
        "    optimizer.step()\n",
        "\n",
        "    # Обновляем loss\n",
        "    train_loss += loss[0].item()\n",
        "    \n",
        "    if(step+1)%20 == 0:\n",
        "      # Рисуем график\n",
        "      clear_output(True)\n",
        "      smoothing_train_loss_set = double_exponential_smoothing(train_loss_set, 0.1, 0.1)\n",
        "      plt.plot(smoothing_train_loss_set)\n",
        "      plt.title(\"Training loss\")\n",
        "      plt.xlabel(\"Batch\")\n",
        "      plt.ylabel(\"Loss\")\n",
        "      plt.show()\n",
        "    \n",
        "print(\"Loss на обучающей выборке: {0:.5f}\".format(train_loss / len(train_dataloader)))\n",
        "\n",
        "\n",
        "# Валидация\n",
        "# Переводим модель в evaluation mode\n",
        "model.eval()\n",
        "\n",
        "valid_preds, valid_labels, valid_logits, valid_labels_2d = [], [], [], []\n",
        "\n",
        "for step, batch in enumerate(validation_dataloader):\n",
        "    # if step > 1000:\n",
        "    #   break   \n",
        "    # добавляем батч для вычисления на GPU\n",
        "    batch = tuple(t.to(device) for t in batch)\n",
        "    \n",
        "    # Распаковываем данные из dataloader\n",
        "    b_input_ids, b_input_mask, b_labels = batch\n",
        "    \n",
        "    # При использовании .no_grad() модель не будет считать и хранить градиенты.\n",
        "    # Это ускорит процесс предсказания меток для валидационных данных.\n",
        "    with torch.no_grad():\n",
        "        logits = model(b_input_ids, token_type_ids=None, attention_mask=b_input_mask)\n",
        "\n",
        "    # Перемещаем logits и метки классов на CPU для дальнейшей работы\n",
        "    logits = logits[0].detach().cpu().numpy()\n",
        "    label_ids = b_labels.to('cpu').numpy()\n",
        "\n",
        "    batch_preds = np.argmax(logits, axis=1)\n",
        "    batch_labels = np.concatenate(label_ids)\n",
        "\n",
        "    size_batch = batch_labels.shape[0]\n",
        "    label_ids_2d = np.zeros((size_batch, 2))\n",
        "    for i in range(size_batch):\n",
        "      label_ids_2d[i][batch_labels[i]] = 1\n",
        "\n",
        "    valid_labels_2d.extend(label_ids_2d) \n",
        "    valid_logits.extend(logits)     \n",
        "    valid_preds.extend(batch_preds)\n",
        "    valid_labels.extend(batch_labels)"
      ],
      "execution_count": null,
      "outputs": [
        {
          "output_type": "display_data",
          "data": {
            "image/png": "[encoded data removed]",
            "text/plain": [
              "<Figure size 432x288 with 1 Axes>"
            ]
          },
          "metadata": {
            "tags": [],
            "needs_background": "light"
          }
        }
      ]
    },
    {
      "cell_type": "code",
      "metadata": {
        "id": "fstCqeG-mtU0"
      },
      "source": [
        "print(\"Процент правильных предсказаний на валидационной выборке: {0:.2f}%\".format(\n",
        "    accuracy_score(valid_labels, valid_preds) * 100\n",
        "))\n",
        "print()\n",
        "print(\"F1 score на валидационной выборке: {0:.2f}%\".format(\n",
        "      f1_score(valid_labels, valid_preds, average='weighted') * 100\n",
        "      ))\n",
        "print()\n",
        "print(\"roc auc score на валидационной выборке: {0:.2f}%\".format(\n",
        "      roc_auc_score(valid_labels_2d, valid_logits, average='weighted') * 100\n",
        "))"
      ],
      "execution_count": null,
      "outputs": []
    },
    {
      "cell_type": "code",
      "metadata": {
        "id": "h0xtmrxmnsfU"
      },
      "source": [
        "sum(valid_preds)"
      ],
      "execution_count": null,
      "outputs": []
    },
    {
      "cell_type": "code",
      "metadata": {
        "id": "EiwejeGbnscb"
      },
      "source": [
        "len(valid_preds)"
      ],
      "execution_count": null,
      "outputs": []
    },
    {
      "cell_type": "code",
      "metadata": {
        "id": "OtIOUqlENKof"
      },
      "source": [
        "model.save_pretrained(\"/content/drive/MyDrive/onti/ru_bert\")"
      ],
      "execution_count": null,
      "outputs": []
    },
    {
      "cell_type": "code",
      "metadata": {
        "id": "QcA6ADcLf3RX"
      },
      "source": [
        "model = BertForSequenceClassification.from_pretrained(\"/content/drive/MyDrive/onti/ru_bert\", num_labels=2)\n",
        "model.to(device)"
      ],
      "execution_count": null,
      "outputs": []
    },
    {
      "cell_type": "code",
      "metadata": {
        "id": "APgyv8HJXqcP"
      },
      "source": [
        "model.eval()\n",
        "output = []\n",
        "for step, minibatch in enumerate(tqdm(zip(*prepare_test_data[:-1]))):\n",
        "  prepared_data, entities, querys = minibatch\n",
        "  pred_logits = []\n",
        "  for ent in entities:\n",
        "      sentence = (\"[CLS] \" + querys + \" [SEP] \" + ent + \" [SEP]\")\n",
        "      tokenized_text = tokenizer.tokenize(sentence)\n",
        "      input_ids = tokenizer.convert_tokens_to_ids(tokenized_text)\n",
        "      input_ids = pad_sequences(\n",
        "          [input_ids, ],\n",
        "          maxlen=512,\n",
        "          dtype=\"long\",\n",
        "          truncating=\"post\",\n",
        "          padding=\"post\"\n",
        "      )\n",
        "      attention_mask = [[float(j>0) for j in input_ids[0]]]\n",
        "\n",
        "      b_input_ids = torch.tensor(input_ids).to(device)\n",
        "      b_input_mask = torch.tensor(attention_mask).to(device)\n",
        "      \n",
        "      with torch.no_grad():\n",
        "          logits = model(b_input_ids, token_type_ids=None, attention_mask=b_input_mask)\n",
        "          logits = logits[0].detach().cpu().numpy()\n",
        "          pred_logits.append(logits[0])\n",
        "  \n",
        "  n_max_confidence = np.argmax(np.array(pred_logits)[:, 1])\n",
        "  start = prepared_data.find(entities[n_max_confidence])\n",
        "  end = start + len(entities[n_max_confidence])\n",
        "  out_dict = {\"idx\": step,\n",
        "              \"end\": end,\n",
        "              \"start\": start,\n",
        "              \"text\": entities[n_max_confidence]}\n",
        "  output.append(out_dict)\n",
        "\n",
        "with open(\"/content/drive/MyDrive/onti/out_file.jsonl\", \"w\") as write_file:\n",
        "  for out in output:\n",
        "    json.dump(out, write_file, ensure_ascii=False)\n",
        "    write_file.write('\\n')"
      ],
      "execution_count": null,
      "outputs": []
    },
    {
      "cell_type": "code",
      "metadata": {
        "id": "zW9MdQvAsRT2"
      },
      "source": [
        ""
      ],
      "execution_count": null,
      "outputs": []
    }
  ]
}