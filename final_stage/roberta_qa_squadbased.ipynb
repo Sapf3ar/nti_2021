{
  "nbformat": 4,
  "nbformat_minor": 0,
  "metadata": {
    "colab": {
      "name": "squad",
      "provenance": [],
      "collapsed_sections": []
    },
    "kernelspec": {
      "name": "python3",
      "display_name": "Python 3"
    },
    "accelerator": "GPU",
    "widgets": {
      "application/vnd.jupyter.widget-state+json": {
        "b4b1c6fe259843518a16050388fdd19d": {
          "model_module": "@jupyter-widgets/controls",
          "model_name": "HBoxModel",
          "model_module_version": "1.5.0",
          "state": {
            "_view_name": "HBoxView",
            "_dom_classes": [],
            "_model_name": "HBoxModel",
            "_view_module": "@jupyter-widgets/controls",
            "_model_module_version": "1.5.0",
            "_view_count": null,
            "_view_module_version": "1.5.0",
            "box_style": "",
            "layout": "IPY_MODEL_bcf1e8aa96cc4394ac046edc4ed0245c",
            "_model_module": "@jupyter-widgets/controls",
            "children": [
              "IPY_MODEL_da09166a893b44db9f3ca793577e2647",
              "IPY_MODEL_134c9eb645844f748e537cc8cb954453"
            ]
          }
        },
        "bcf1e8aa96cc4394ac046edc4ed0245c": {
          "model_module": "@jupyter-widgets/base",
          "model_name": "LayoutModel",
          "model_module_version": "1.2.0",
          "state": {
            "_view_name": "LayoutView",
            "grid_template_rows": null,
            "right": null,
            "justify_content": null,
            "_view_module": "@jupyter-widgets/base",
            "overflow": null,
            "_model_module_version": "1.2.0",
            "_view_count": null,
            "flex_flow": null,
            "width": null,
            "min_width": null,
            "border": null,
            "align_items": null,
            "bottom": null,
            "_model_module": "@jupyter-widgets/base",
            "top": null,
            "grid_column": null,
            "overflow_y": null,
            "overflow_x": null,
            "grid_auto_flow": null,
            "grid_area": null,
            "grid_template_columns": null,
            "flex": null,
            "_model_name": "LayoutModel",
            "justify_items": null,
            "grid_row": null,
            "max_height": null,
            "align_content": null,
            "visibility": null,
            "align_self": null,
            "height": null,
            "min_height": null,
            "padding": null,
            "grid_auto_rows": null,
            "grid_gap": null,
            "max_width": null,
            "order": null,
            "_view_module_version": "1.2.0",
            "grid_template_areas": null,
            "object_position": null,
            "object_fit": null,
            "grid_auto_columns": null,
            "margin": null,
            "display": null,
            "left": null
          }
        },
        "da09166a893b44db9f3ca793577e2647": {
          "model_module": "@jupyter-widgets/controls",
          "model_name": "FloatProgressModel",
          "model_module_version": "1.5.0",
          "state": {
            "_view_name": "ProgressView",
            "style": "IPY_MODEL_e056451448404b5b9788def9963af6ee",
            "_dom_classes": [],
            "description": "Downloading: 100%",
            "_model_name": "FloatProgressModel",
            "bar_style": "success",
            "max": 642,
            "_view_module": "@jupyter-widgets/controls",
            "_model_module_version": "1.5.0",
            "value": 642,
            "_view_count": null,
            "_view_module_version": "1.5.0",
            "orientation": "horizontal",
            "min": 0,
            "description_tooltip": null,
            "_model_module": "@jupyter-widgets/controls",
            "layout": "IPY_MODEL_3e6ab54784a546df8e14808615552e92"
          }
        },
        "134c9eb645844f748e537cc8cb954453": {
          "model_module": "@jupyter-widgets/controls",
          "model_name": "HTMLModel",
          "model_module_version": "1.5.0",
          "state": {
            "_view_name": "HTMLView",
            "style": "IPY_MODEL_4091d298036948a9bb62c68038c0c0f3",
            "_dom_classes": [],
            "description": "",
            "_model_name": "HTMLModel",
            "placeholder": "​",
            "_view_module": "@jupyter-widgets/controls",
            "_model_module_version": "1.5.0",
            "value": " 642/642 [00:00&lt;00:00, 2.58kB/s]",
            "_view_count": null,
            "_view_module_version": "1.5.0",
            "description_tooltip": null,
            "_model_module": "@jupyter-widgets/controls",
            "layout": "IPY_MODEL_920430d79e224fc6b8adfb0114e421b6"
          }
        },
        "e056451448404b5b9788def9963af6ee": {
          "model_module": "@jupyter-widgets/controls",
          "model_name": "ProgressStyleModel",
          "model_module_version": "1.5.0",
          "state": {
            "_view_name": "StyleView",
            "_model_name": "ProgressStyleModel",
            "description_width": "initial",
            "_view_module": "@jupyter-widgets/base",
            "_model_module_version": "1.5.0",
            "_view_count": null,
            "_view_module_version": "1.2.0",
            "bar_color": null,
            "_model_module": "@jupyter-widgets/controls"
          }
        },
        "3e6ab54784a546df8e14808615552e92": {
          "model_module": "@jupyter-widgets/base",
          "model_name": "LayoutModel",
          "model_module_version": "1.2.0",
          "state": {
            "_view_name": "LayoutView",
            "grid_template_rows": null,
            "right": null,
            "justify_content": null,
            "_view_module": "@jupyter-widgets/base",
            "overflow": null,
            "_model_module_version": "1.2.0",
            "_view_count": null,
            "flex_flow": null,
            "width": null,
            "min_width": null,
            "border": null,
            "align_items": null,
            "bottom": null,
            "_model_module": "@jupyter-widgets/base",
            "top": null,
            "grid_column": null,
            "overflow_y": null,
            "overflow_x": null,
            "grid_auto_flow": null,
            "grid_area": null,
            "grid_template_columns": null,
            "flex": null,
            "_model_name": "LayoutModel",
            "justify_items": null,
            "grid_row": null,
            "max_height": null,
            "align_content": null,
            "visibility": null,
            "align_self": null,
            "height": null,
            "min_height": null,
            "padding": null,
            "grid_auto_rows": null,
            "grid_gap": null,
            "max_width": null,
            "order": null,
            "_view_module_version": "1.2.0",
            "grid_template_areas": null,
            "object_position": null,
            "object_fit": null,
            "grid_auto_columns": null,
            "margin": null,
            "display": null,
            "left": null
          }
        },
        "4091d298036948a9bb62c68038c0c0f3": {
          "model_module": "@jupyter-widgets/controls",
          "model_name": "DescriptionStyleModel",
          "model_module_version": "1.5.0",
          "state": {
            "_view_name": "StyleView",
            "_model_name": "DescriptionStyleModel",
            "description_width": "",
            "_view_module": "@jupyter-widgets/base",
            "_model_module_version": "1.5.0",
            "_view_count": null,
            "_view_module_version": "1.2.0",
            "_model_module": "@jupyter-widgets/controls"
          }
        },
        "920430d79e224fc6b8adfb0114e421b6": {
          "model_module": "@jupyter-widgets/base",
          "model_name": "LayoutModel",
          "model_module_version": "1.2.0",
          "state": {
            "_view_name": "LayoutView",
            "grid_template_rows": null,
            "right": null,
            "justify_content": null,
            "_view_module": "@jupyter-widgets/base",
            "overflow": null,
            "_model_module_version": "1.2.0",
            "_view_count": null,
            "flex_flow": null,
            "width": null,
            "min_width": null,
            "border": null,
            "align_items": null,
            "bottom": null,
            "_model_module": "@jupyter-widgets/base",
            "top": null,
            "grid_column": null,
            "overflow_y": null,
            "overflow_x": null,
            "grid_auto_flow": null,
            "grid_area": null,
            "grid_template_columns": null,
            "flex": null,
            "_model_name": "LayoutModel",
            "justify_items": null,
            "grid_row": null,
            "max_height": null,
            "align_content": null,
            "visibility": null,
            "align_self": null,
            "height": null,
            "min_height": null,
            "padding": null,
            "grid_auto_rows": null,
            "grid_gap": null,
            "max_width": null,
            "order": null,
            "_view_module_version": "1.2.0",
            "grid_template_areas": null,
            "object_position": null,
            "object_fit": null,
            "grid_auto_columns": null,
            "margin": null,
            "display": null,
            "left": null
          }
        },
        "849b9735044c44619a9173a9c409f553": {
          "model_module": "@jupyter-widgets/controls",
          "model_name": "HBoxModel",
          "model_module_version": "1.5.0",
          "state": {
            "_view_name": "HBoxView",
            "_dom_classes": [],
            "_model_name": "HBoxModel",
            "_view_module": "@jupyter-widgets/controls",
            "_model_module_version": "1.5.0",
            "_view_count": null,
            "_view_module_version": "1.5.0",
            "box_style": "",
            "layout": "IPY_MODEL_d8ea8dc055e940d5a7dd3036b0ca66f8",
            "_model_module": "@jupyter-widgets/controls",
            "children": [
              "IPY_MODEL_e5d58ae93cf54853a5144629689947cf",
              "IPY_MODEL_3a1600419bef438cb6f9628a9cd049ef"
            ]
          }
        },
        "d8ea8dc055e940d5a7dd3036b0ca66f8": {
          "model_module": "@jupyter-widgets/base",
          "model_name": "LayoutModel",
          "model_module_version": "1.2.0",
          "state": {
            "_view_name": "LayoutView",
            "grid_template_rows": null,
            "right": null,
            "justify_content": null,
            "_view_module": "@jupyter-widgets/base",
            "overflow": null,
            "_model_module_version": "1.2.0",
            "_view_count": null,
            "flex_flow": null,
            "width": null,
            "min_width": null,
            "border": null,
            "align_items": null,
            "bottom": null,
            "_model_module": "@jupyter-widgets/base",
            "top": null,
            "grid_column": null,
            "overflow_y": null,
            "overflow_x": null,
            "grid_auto_flow": null,
            "grid_area": null,
            "grid_template_columns": null,
            "flex": null,
            "_model_name": "LayoutModel",
            "justify_items": null,
            "grid_row": null,
            "max_height": null,
            "align_content": null,
            "visibility": null,
            "align_self": null,
            "height": null,
            "min_height": null,
            "padding": null,
            "grid_auto_rows": null,
            "grid_gap": null,
            "max_width": null,
            "order": null,
            "_view_module_version": "1.2.0",
            "grid_template_areas": null,
            "object_position": null,
            "object_fit": null,
            "grid_auto_columns": null,
            "margin": null,
            "display": null,
            "left": null
          }
        },
        "e5d58ae93cf54853a5144629689947cf": {
          "model_module": "@jupyter-widgets/controls",
          "model_name": "FloatProgressModel",
          "model_module_version": "1.5.0",
          "state": {
            "_view_name": "ProgressView",
            "style": "IPY_MODEL_dd106b0f42704b5a9d2820761c574e8b",
            "_dom_classes": [],
            "description": "Downloading: 100%",
            "_model_name": "FloatProgressModel",
            "bar_style": "success",
            "max": 711456796,
            "_view_module": "@jupyter-widgets/controls",
            "_model_module_version": "1.5.0",
            "value": 711456796,
            "_view_count": null,
            "_view_module_version": "1.5.0",
            "orientation": "horizontal",
            "min": 0,
            "description_tooltip": null,
            "_model_module": "@jupyter-widgets/controls",
            "layout": "IPY_MODEL_a6b49b08288b439489b0c07c690fd5c6"
          }
        },
        "3a1600419bef438cb6f9628a9cd049ef": {
          "model_module": "@jupyter-widgets/controls",
          "model_name": "HTMLModel",
          "model_module_version": "1.5.0",
          "state": {
            "_view_name": "HTMLView",
            "style": "IPY_MODEL_230d2a6373a5496c98b478dd783deb4e",
            "_dom_classes": [],
            "description": "",
            "_model_name": "HTMLModel",
            "placeholder": "​",
            "_view_module": "@jupyter-widgets/controls",
            "_model_module_version": "1.5.0",
            "value": " 711M/711M [00:15&lt;00:00, 47.3MB/s]",
            "_view_count": null,
            "_view_module_version": "1.5.0",
            "description_tooltip": null,
            "_model_module": "@jupyter-widgets/controls",
            "layout": "IPY_MODEL_9e8bc944f40644999fccc26048541f60"
          }
        },
        "dd106b0f42704b5a9d2820761c574e8b": {
          "model_module": "@jupyter-widgets/controls",
          "model_name": "ProgressStyleModel",
          "model_module_version": "1.5.0",
          "state": {
            "_view_name": "StyleView",
            "_model_name": "ProgressStyleModel",
            "description_width": "initial",
            "_view_module": "@jupyter-widgets/base",
            "_model_module_version": "1.5.0",
            "_view_count": null,
            "_view_module_version": "1.2.0",
            "bar_color": null,
            "_model_module": "@jupyter-widgets/controls"
          }
        },
        "a6b49b08288b439489b0c07c690fd5c6": {
          "model_module": "@jupyter-widgets/base",
          "model_name": "LayoutModel",
          "model_module_version": "1.2.0",
          "state": {
            "_view_name": "LayoutView",
            "grid_template_rows": null,
            "right": null,
            "justify_content": null,
            "_view_module": "@jupyter-widgets/base",
            "overflow": null,
            "_model_module_version": "1.2.0",
            "_view_count": null,
            "flex_flow": null,
            "width": null,
            "min_width": null,
            "border": null,
            "align_items": null,
            "bottom": null,
            "_model_module": "@jupyter-widgets/base",
            "top": null,
            "grid_column": null,
            "overflow_y": null,
            "overflow_x": null,
            "grid_auto_flow": null,
            "grid_area": null,
            "grid_template_columns": null,
            "flex": null,
            "_model_name": "LayoutModel",
            "justify_items": null,
            "grid_row": null,
            "max_height": null,
            "align_content": null,
            "visibility": null,
            "align_self": null,
            "height": null,
            "min_height": null,
            "padding": null,
            "grid_auto_rows": null,
            "grid_gap": null,
            "max_width": null,
            "order": null,
            "_view_module_version": "1.2.0",
            "grid_template_areas": null,
            "object_position": null,
            "object_fit": null,
            "grid_auto_columns": null,
            "margin": null,
            "display": null,
            "left": null
          }
        },
        "230d2a6373a5496c98b478dd783deb4e": {
          "model_module": "@jupyter-widgets/controls",
          "model_name": "DescriptionStyleModel",
          "model_module_version": "1.5.0",
          "state": {
            "_view_name": "StyleView",
            "_model_name": "DescriptionStyleModel",
            "description_width": "",
            "_view_module": "@jupyter-widgets/base",
            "_model_module_version": "1.5.0",
            "_view_count": null,
            "_view_module_version": "1.2.0",
            "_model_module": "@jupyter-widgets/controls"
          }
        },
        "9e8bc944f40644999fccc26048541f60": {
          "model_module": "@jupyter-widgets/base",
          "model_name": "LayoutModel",
          "model_module_version": "1.2.0",
          "state": {
            "_view_name": "LayoutView",
            "grid_template_rows": null,
            "right": null,
            "justify_content": null,
            "_view_module": "@jupyter-widgets/base",
            "overflow": null,
            "_model_module_version": "1.2.0",
            "_view_count": null,
            "flex_flow": null,
            "width": null,
            "min_width": null,
            "border": null,
            "align_items": null,
            "bottom": null,
            "_model_module": "@jupyter-widgets/base",
            "top": null,
            "grid_column": null,
            "overflow_y": null,
            "overflow_x": null,
            "grid_auto_flow": null,
            "grid_area": null,
            "grid_template_columns": null,
            "flex": null,
            "_model_name": "LayoutModel",
            "justify_items": null,
            "grid_row": null,
            "max_height": null,
            "align_content": null,
            "visibility": null,
            "align_self": null,
            "height": null,
            "min_height": null,
            "padding": null,
            "grid_auto_rows": null,
            "grid_gap": null,
            "max_width": null,
            "order": null,
            "_view_module_version": "1.2.0",
            "grid_template_areas": null,
            "object_position": null,
            "object_fit": null,
            "grid_auto_columns": null,
            "margin": null,
            "display": null,
            "left": null
          }
        }
      }
    }
  },
  "cells": [
    {
      "cell_type": "code",
      "metadata": {
        "id": "WAEY1kuXEIPP"
      },
      "source": [
        "from IPython.display import clear_output"
      ],
      "execution_count": null,
      "outputs": []
    },
    {
      "cell_type": "code",
      "metadata": {
        "colab": {
          "base_uri": "https://localhost:8080/"
        },
        "id": "B1jNRgEwRo5l",
        "outputId": "c12709be-1aac-4f1d-f493-18f0e9b27c20"
      },
      "source": [
        "from google.colab import drive\n",
        "drive.mount('/content/drive')"
      ],
      "execution_count": null,
      "outputs": [
        {
          "output_type": "stream",
          "text": [
            "Mounted at /content/drive\n"
          ],
          "name": "stdout"
        }
      ]
    },
    {
      "cell_type": "code",
      "metadata": {
        "id": "C_wyNi1JDfKd",
        "colab": {
          "base_uri": "https://localhost:8080/"
        },
        "outputId": "08254c43-e2c0-46cd-e91f-bce24a0b8098"
      },
      "source": [
        "%cd drive/MyDrive/nti/rucos"
      ],
      "execution_count": null,
      "outputs": [
        {
          "output_type": "stream",
          "text": [
            "/content/drive/MyDrive/nti/rucos\n"
          ],
          "name": "stdout"
        }
      ]
    },
    {
      "cell_type": "code",
      "metadata": {
        "id": "k-IUKFTK4Jvs",
        "cellView": "form"
      },
      "source": [
        "#@title args\n",
        "\n",
        "def get_argument_parser():\n",
        "    parser = argparse.ArgumentParser()\n",
        "\n",
        "    # Required parameters\n",
        "  \n",
        "    parser.add_argument(\n",
        "        \"--max_seq_length\",\n",
        "        default=512,\n",
        "        type=int,\n",
        "        help=\n",
        "        \"The maximum total input sequence length after WordPiece tokenization. Sequences \"\n",
        "        \"longer than this will be truncated, and sequences shorter than this will be padded.\"\n",
        "    )\n",
        "    parser.add_argument(\n",
        "        \"--doc_stride\",\n",
        "        default=128,\n",
        "        type=int,\n",
        "        help=\n",
        "        \"When splitting up a long document into chunks, how much stride to take between chunks.\"\n",
        "    )\n",
        "    parser.add_argument(\n",
        "        \"--max_query_length\",\n",
        "        default=64,\n",
        "        type=int,\n",
        "        help=\n",
        "        \"The maximum number of tokens for the question. Questions longer than this will \"\n",
        "        \"be truncated to this length.\")\n",
        "    parser.add_argument(\"--do_train\",\n",
        "                        default=True,\n",
        "                        action='store_true',\n",
        "                        help=\"Whether to run training.\")\n",
        "    parser.add_argument(\"--do_predict\",\n",
        "                        default=True,\n",
        "                        action='store_true',\n",
        "                        help=\"Whether to run eval on the dev set.\")\n",
        "    parser.add_argument(\"--train_batch_size\",\n",
        "                        default=24,\n",
        "                        type=int,\n",
        "                        help=\"Total batch size for training.\")\n",
        "    parser.add_argument(\"--predict_batch_size\",\n",
        "                        default=8,\n",
        "                        type=int,\n",
        "                        help=\"Total batch size for predictions.\")\n",
        "    parser.add_argument(\"--learning_rate\",\n",
        "                        default=5e-5,\n",
        "                        type=float,\n",
        "                        help=\"The initial learning rate for Adam.\")\n",
        "    parser.add_argument(\"--num_train_epochs\",\n",
        "                        default=1,\n",
        "                        type=float,\n",
        "                        help=\"Total number of training epochs to perform.\")\n",
        "    parser.add_argument(\n",
        "        \"--warmup_proportion\",\n",
        "        default=0.1,\n",
        "        type=float,\n",
        "        help=\n",
        "        \"Proportion of training to perform linear learning rate warmup for. E.g., 0.1 = 10% \"\n",
        "        \"of training.\")\n",
        "    parser.add_argument(\n",
        "        \"--n_best_size\",\n",
        "        default=20,\n",
        "        type=int,\n",
        "        help=\n",
        "        \"The total number of n-best predictions to generate in the nbest_predictions.json \"\n",
        "        \"output file.\")\n",
        "    parser.add_argument(\n",
        "        \"--max_answer_length\",\n",
        "        default=30,\n",
        "        type=int,\n",
        "        help=\n",
        "        \"The maximum length of an answer that can be generated. This is needed because the start \"\n",
        "        \"and end predictions are not conditioned on one another.\")\n",
        "    parser.add_argument(\n",
        "        \"--verbose_logging\",\n",
        "        action='store_true',\n",
        "        help=\n",
        "        \"If true, all of the warnings related to data processing will be printed. \"\n",
        "        \"A number of warnings are expected for a normal SQuAD evaluation.\")\n",
        "    parser.add_argument('--seed',\n",
        "                        type=int,\n",
        "                        default=42,\n",
        "                        help=\"random seed for initialization\")\n",
        "    parser.add_argument(\n",
        "        '--gradient_accumulation_steps',\n",
        "        type=int,\n",
        "        default=10,\n",
        "        help=\n",
        "        \"Number of updates steps to accumulate before performing a backward/update pass.\"\n",
        "    )\n",
        "    parser.add_argument(\"--local_rank\",\n",
        "                        type=int,\n",
        "                        default=-1,\n",
        "                        help=\"local_rank for distributed training on gpus\")\n",
        "    parser.add_argument(\n",
        "        '--wall_clock_breakdown',\n",
        "        action='store_true',\n",
        "        default=True,\n",
        "        help=\n",
        "        \"Whether to display the breakdown of the wall-clock time for foraward, backward and step\"\n",
        "    )\n",
        "\n",
        "\n",
        "    parser.add_argument(\"--max_grad_norm\",\n",
        "                        default=1.,\n",
        "                        type=float,\n",
        "                        help=\"Gradient clipping for FusedAdam.\")\n",
        "    parser.add_argument('--job_name',\n",
        "                        type=str,\n",
        "                        default='/',\n",
        "                        help='Output path for Tensorboard event files.')\n",
        "\n",
        "    parser.add_argument(\n",
        "        '--preln',\n",
        "        action='store_true',\n",
        "        default=False,\n",
        "        help=\n",
        "        \"Whether to display the breakdown of the wall-clock time for foraward, backward and step\"\n",
        "    )\n",
        "\n",
        "    parser.add_argument(\n",
        "        '--loss_plot_alpha',\n",
        "        type=float,\n",
        "        default=0.2,\n",
        "        help='Alpha factor for plotting moving average of loss.')\n",
        "\n",
        "    parser.add_argument(\n",
        "        '--max_steps',\n",
        "        type=int,\n",
        "        default=sys.maxsize,\n",
        "        help=\n",
        "        'Maximum number of training steps of effective batch size to complete.'\n",
        "    )\n",
        "\n",
        "    parser.add_argument(\n",
        "        '--max_steps_per_epoch',\n",
        "        type=int,\n",
        "        default=sys.maxsize,\n",
        "        help=\n",
        "        'Maximum number of training steps of effective batch size within an epoch to complete.'\n",
        "    )\n",
        "\n",
        "    parser.add_argument('--print_steps',\n",
        "                        type=int,\n",
        "                        default=2000,\n",
        "                        help='Interval to print training details.')\n",
        "\n",
        "    parser.add_argument('--deepspeed_transformer_kernel',\n",
        "                        default=False,\n",
        "                        action='store_true',\n",
        "                        help='Use DeepSpeed transformer kernel to accelerate.')\n",
        "\n",
        "    parser.add_argument('--dropout', type=float, default=0.1, help='dropout')\n",
        "\n",
        "    parser.add_argument(\n",
        "        '--ckpt_type',\n",
        "        type=str,\n",
        "        default=\"HF\",\n",
        "        help=\"Checkpoint's type, DS - DeepSpeed, TF - Tensorflow, HF - Huggingface.\")\n",
        "\n",
        "    parser.add_argument(\n",
        "        \"--origin_bert_config_file\",\n",
        "        type=str,\n",
        "        default=None,\n",
        "        help=\"The config json file corresponding to the non-DeepSpeed pre-trained BERT model.\"\n",
        "    )\n",
        "    parser.add_argument(\n",
        "        '--deepspeed_config',\n",
        "        default='conf_deep.json'\n",
        "    )\n",
        "    parser.add_argument(\n",
        "        '--deepspeed',\n",
        "        type=bool,\n",
        "        default=True\n",
        "    )\n",
        "    return parser"
      ],
      "execution_count": null,
      "outputs": []
    },
    {
      "cell_type": "code",
      "metadata": {
        "id": "IDpi2hM_R6nA",
        "colab": {
          "base_uri": "https://localhost:8080/"
        },
        "outputId": "78c12229-ad05-439d-a38b-739541032087"
      },
      "source": [
        "try:\n",
        "  import sentencepiece\n",
        "except ImportError:\n",
        "  !pip install sentencepiece\n",
        "  clear_output"
      ],
      "execution_count": null,
      "outputs": [
        {
          "output_type": "stream",
          "text": [
            "Collecting sentencepiece\n",
            "\u001b[?25l  Downloading https://files.pythonhosted.org/packages/f5/99/e0808cb947ba10f575839c43e8fafc9cc44e4a7a2c8f79c60db48220a577/sentencepiece-0.1.95-cp37-cp37m-manylinux2014_x86_64.whl (1.2MB)\n",
            "\u001b[K     |████████████████████████████████| 1.2MB 8.4MB/s \n",
            "\u001b[?25hInstalling collected packages: sentencepiece\n",
            "Successfully installed sentencepiece-0.1.95\n"
          ],
          "name": "stdout"
        }
      ]
    },
    {
      "cell_type": "code",
      "metadata": {
        "id": "4YujSwlRD-6Y"
      },
      "source": [
        "!pip install transformers\n",
        "clear_output()"
      ],
      "execution_count": null,
      "outputs": []
    },
    {
      "cell_type": "code",
      "metadata": {
        "id": "N8v0_cLqkeG9",
        "colab": {
          "base_uri": "https://localhost:8080/"
        },
        "outputId": "fb887267-cd1e-4d88-aa25-be741fa458cd"
      },
      "source": [
        "!ls"
      ],
      "execution_count": null,
      "outputs": [
        {
          "output_type": "stream",
          "text": [
            "'bbbbbert (1).ipynb'\n",
            " bert_qa\n",
            " bert-qa\n",
            " conf_deep.json\n",
            " Miniconda3-latest-Linux-x86_64.sh\n",
            " out.jsonl\n",
            " pytorch-xla-env-setup.py\n",
            " qas-roberta\n",
            " roberta-qas\n",
            " sbersquad_train.json\n",
            " sentence_multi_cased.txt\n",
            " t5.t7\n",
            " test.jsonl\n",
            " torch-1.6-cp37-cp37m-linux_x86_64.whl\n",
            " torch-nightly+20200515-cp37-cp37m-linux_x86_64.whl\n",
            " torch-nightly-cp37-cp37m-linux_x86_64.whl\n",
            " torchvision-1.6-cp37-cp37m-linux_x86_64.whl\n",
            " torchvision-nightly+20200515-cp37-cp37m-linux_x86_64.whl\n",
            " torchvision-nightly-cp37-cp37m-linux_x86_64.whl\n",
            " torch_xla-1.6-cp37-cp37m-linux_x86_64.whl\n",
            " torch_xla-nightly+20200515-cp37-cp37m-linux_x86_64.whl\n",
            " torch_xla-nightly-cp37-cp37m-linux_x86_64.whl\n",
            " train.jsonl\n",
            " val.jsonl\n"
          ],
          "name": "stdout"
        }
      ]
    },
    {
      "cell_type": "code",
      "metadata": {
        "id": "7B62Mzx1DkMQ"
      },
      "source": [
        "#@title imports\n",
        "import torch\n",
        "from torch.utils.data import TensorDataset, DataLoader, SequentialSampler\n",
        "from sklearn.model_selection import train_test_split\n",
        "from transformers import AutoModelForQuestionAnswering,AutoModel, AutoConfig, get_cosine_schedule_with_warmup, AdamW, Trainer, TrainingArguments\n",
        "from tqdm import tqdm, trange\n",
        "import pandas as pd\n",
        "import io\n",
        "import numpy as np\n",
        "from sklearn.metrics import accuracy_score\n",
        "import json\n",
        "import matplotlib.pyplot as plt\n",
        "import logging\n",
        "logging.basicConfig(level=logging.ERROR)"
      ],
      "execution_count": null,
      "outputs": []
    },
    {
      "cell_type": "code",
      "metadata": {
        "id": "zVYwDZuA_5vM"
      },
      "source": [
        "PATH = \"DeepPavlov/rubert-base-cased\""
      ],
      "execution_count": null,
      "outputs": []
    },
    {
      "cell_type": "code",
      "metadata": {
        "id": "TwsvLoZJaQxW"
      },
      "source": [
        "EPOCHS = 1"
      ],
      "execution_count": null,
      "outputs": []
    },
    {
      "cell_type": "code",
      "metadata": {
        "id": "BmeHpfamIoxo",
        "colab": {
          "base_uri": "https://localhost:8080/"
        },
        "outputId": "1e9becd3-fb46-4163-9433-1fd4fd9da658"
      },
      "source": [
        "device = torch.device(\"cuda\" if torch.cuda.is_available() else \"cpu\")\n",
        "\n",
        "if device == torch.device('cpu'):\n",
        "    print('Using cpu')\n",
        "else:\n",
        "    n_gpu = torch.cuda.device_count()\n",
        "    print('Using {} GPUs'.format(torch.cuda.get_device_name(0)))"
      ],
      "execution_count": null,
      "outputs": [
        {
          "output_type": "stream",
          "text": [
            "Using cpu\n"
          ],
          "name": "stdout"
        }
      ]
    },
    {
      "cell_type": "code",
      "metadata": {
        "id": "F2QgMyrHIHTt",
        "colab": {
          "base_uri": "https://localhost:8080/",
          "height": 168,
          "referenced_widgets": [
            "b4b1c6fe259843518a16050388fdd19d",
            "bcf1e8aa96cc4394ac046edc4ed0245c",
            "da09166a893b44db9f3ca793577e2647",
            "134c9eb645844f748e537cc8cb954453",
            "e056451448404b5b9788def9963af6ee",
            "3e6ab54784a546df8e14808615552e92",
            "4091d298036948a9bb62c68038c0c0f3",
            "920430d79e224fc6b8adfb0114e421b6",
            "849b9735044c44619a9173a9c409f553",
            "d8ea8dc055e940d5a7dd3036b0ca66f8",
            "e5d58ae93cf54853a5144629689947cf",
            "3a1600419bef438cb6f9628a9cd049ef",
            "dd106b0f42704b5a9d2820761c574e8b",
            "a6b49b08288b439489b0c07c690fd5c6",
            "230d2a6373a5496c98b478dd783deb4e",
            "9e8bc944f40644999fccc26048541f60"
          ]
        },
        "outputId": "1fa304b9-fc9f-47a9-a498-ffe96a68764d"
      },
      "source": [
        "model = AutoModelForQuestionAnswering.from_pretrained(PATH)"
      ],
      "execution_count": null,
      "outputs": [
        {
          "output_type": "display_data",
          "data": {
            "application/vnd.jupyter.widget-view+json": {
              "model_id": "b4b1c6fe259843518a16050388fdd19d",
              "version_minor": 0,
              "version_major": 2
            },
            "text/plain": [
              "HBox(children=(FloatProgress(value=0.0, description='Downloading', max=642.0, style=ProgressStyle(description_…"
            ]
          },
          "metadata": {
            "tags": []
          }
        },
        {
          "output_type": "stream",
          "text": [
            "\n"
          ],
          "name": "stdout"
        },
        {
          "output_type": "display_data",
          "data": {
            "application/vnd.jupyter.widget-view+json": {
              "model_id": "849b9735044c44619a9173a9c409f553",
              "version_minor": 0,
              "version_major": 2
            },
            "text/plain": [
              "HBox(children=(FloatProgress(value=0.0, description='Downloading', max=711456796.0, style=ProgressStyle(descri…"
            ]
          },
          "metadata": {
            "tags": []
          }
        },
        {
          "output_type": "stream",
          "text": [
            "\n"
          ],
          "name": "stdout"
        },
        {
          "output_type": "stream",
          "text": [
            "Some weights of BertForQuestionAnswering were not initialized from the model checkpoint at DeepPavlov/rubert-base-cased and are newly initialized: ['qa_outputs.bias', 'qa_outputs.weight']\n",
            "You should probably TRAIN this model on a down-stream task to be able to use it for predictions and inference.\n"
          ],
          "name": "stderr"
        }
      ]
    },
    {
      "cell_type": "code",
      "metadata": {
        "id": "a1NkM_QmI0V8"
      },
      "source": [
        "model.to(device)\n",
        "if True:\n",
        "  clear_output()"
      ],
      "execution_count": null,
      "outputs": []
    },
    {
      "cell_type": "code",
      "metadata": {
        "id": "H8QwFgCBRNlO",
        "colab": {
          "base_uri": "https://localhost:8080/",
          "height": 231
        },
        "outputId": "517dec7c-4472-481d-9a38-bbda20992ad3"
      },
      "source": [
        "with open('train.jsonl', 'r', encoding='utf-8') as data:\n",
        "  dat = list(data)\n",
        "with open('val.jsonl', 'r', encoding='utf-8') as data:\n",
        "  val = list(data)\n",
        "dat = dat + val"
      ],
      "execution_count": null,
      "outputs": [
        {
          "output_type": "error",
          "ename": "FileNotFoundError",
          "evalue": "ignored",
          "traceback": [
            "\u001b[0;31m---------------------------------------------------------------------------\u001b[0m",
            "\u001b[0;31mFileNotFoundError\u001b[0m                         Traceback (most recent call last)",
            "\u001b[0;32m<ipython-input-1-fb7580383584>\u001b[0m in \u001b[0;36m<module>\u001b[0;34m()\u001b[0m\n\u001b[0;32m----> 1\u001b[0;31m \u001b[0;32mwith\u001b[0m \u001b[0mopen\u001b[0m\u001b[0;34m(\u001b[0m\u001b[0;34m'train.jsonl'\u001b[0m\u001b[0;34m,\u001b[0m \u001b[0;34m'r'\u001b[0m\u001b[0;34m,\u001b[0m \u001b[0mencoding\u001b[0m\u001b[0;34m=\u001b[0m\u001b[0;34m'utf-8'\u001b[0m\u001b[0;34m)\u001b[0m \u001b[0;32mas\u001b[0m \u001b[0mdata\u001b[0m\u001b[0;34m:\u001b[0m\u001b[0;34m\u001b[0m\u001b[0;34m\u001b[0m\u001b[0m\n\u001b[0m\u001b[1;32m      2\u001b[0m   \u001b[0mdat\u001b[0m \u001b[0;34m=\u001b[0m \u001b[0mlist\u001b[0m\u001b[0;34m(\u001b[0m\u001b[0mdata\u001b[0m\u001b[0;34m)\u001b[0m\u001b[0;34m\u001b[0m\u001b[0;34m\u001b[0m\u001b[0m\n\u001b[1;32m      3\u001b[0m \u001b[0;32mwith\u001b[0m \u001b[0mopen\u001b[0m\u001b[0;34m(\u001b[0m\u001b[0;34m'val.jsonl'\u001b[0m\u001b[0;34m,\u001b[0m \u001b[0;34m'r'\u001b[0m\u001b[0;34m,\u001b[0m \u001b[0mencoding\u001b[0m\u001b[0;34m=\u001b[0m\u001b[0;34m'utf-8'\u001b[0m\u001b[0;34m)\u001b[0m \u001b[0;32mas\u001b[0m \u001b[0mdata\u001b[0m\u001b[0;34m:\u001b[0m\u001b[0;34m\u001b[0m\u001b[0;34m\u001b[0m\u001b[0m\n\u001b[1;32m      4\u001b[0m   \u001b[0mval\u001b[0m \u001b[0;34m=\u001b[0m \u001b[0mlist\u001b[0m\u001b[0;34m(\u001b[0m\u001b[0mdata\u001b[0m\u001b[0;34m)\u001b[0m\u001b[0;34m\u001b[0m\u001b[0;34m\u001b[0m\u001b[0m\n\u001b[1;32m      5\u001b[0m \u001b[0mdat\u001b[0m \u001b[0;34m=\u001b[0m \u001b[0mdat\u001b[0m \u001b[0;34m+\u001b[0m \u001b[0mval\u001b[0m\u001b[0;34m\u001b[0m\u001b[0;34m\u001b[0m\u001b[0m\n",
            "\u001b[0;31mFileNotFoundError\u001b[0m: [Errno 2] No such file or directory: 'train.jsonl'"
          ]
        }
      ]
    },
    {
      "cell_type": "code",
      "metadata": {
        "id": "W19qiAJRN-8h"
      },
      "source": [
        "labels = []\n",
        "train_text = []\n",
        "train_query = []\n",
        "length = []\n",
        "answers = []\n",
        "for example in dat[:10000] + val:\n",
        "  ex = json.loads(example)\n",
        "  text = ex['passage']['text']\n",
        "  query = ex['qas'][0]['query']\n",
        "  # length.append(len(tokenizer.tokenize(text)))\n",
        "  # answers = list(set(list(map(lambda x:text[x['start']:x['end']], ex['passage']['entities']))))\n",
        "  for ans in ex['qas'][0]['answers']:\n",
        "     answers.append([ans['start'], ans['end']])\n",
        "     train_text.append(text)\n",
        "     train_query.append(query + ' ' + ans['text'])"
      ],
      "execution_count": null,
      "outputs": []
    },
    {
      "cell_type": "code",
      "metadata": {
        "id": "UVF2geHKXZlB"
      },
      "source": [
        "\n",
        "# val_answers = []\n",
        "# valid_text = []\n",
        "# valid_queries = []\n",
        "# length = []\n",
        "# for example in dat[]:\n",
        "#   ex = json.loads(example)\n",
        "#   text = ex['passage']['text']\n",
        "#   query = ex['qas'][0]['query']\n",
        "#   # length.append(len(tokenizer.tokenize(text)))\n",
        "#   for ans in ex['qas'][0]['answers']:\n",
        "#      val_answers.append([ans['start'], ans['end']])\n",
        "#      valid_text.append(text)\n",
        "#      valid_queries.append(query + ' ' + ans['text'])"
      ],
      "execution_count": null,
      "outputs": []
    },
    {
      "cell_type": "code",
      "metadata": {
        "id": "mX1Gnr71aO0m"
      },
      "source": [
        "import transformers\n",
        "from transformers import BertTokenizerFast\n",
        "tokenizer =BertTokenizerFast.from_pretrained(PATH)\n",
        "assert isinstance(tokenizer, transformers.PreTrainedTokenizerFast)\n",
        "tokenizer.padding_side = \"right\"\n",
        "pad_on_right = True"
      ],
      "execution_count": null,
      "outputs": []
    },
    {
      "cell_type": "code",
      "metadata": {
        "id": "vLDfJttkvsRx"
      },
      "source": [
        "def prepare_train_features(questions, texts, labels):\n",
        "    # Tokenize our examples with truncation and padding, but keep the overflows using a stride. This results\n",
        "    # in one example possible giving several features when a context is long, each of those features having a\n",
        "    # context that overlaps a bit the context of the previous feature.\n",
        "  tokenized_examples = tokenizer(questions, texts, \n",
        "                              max_length=512,\n",
        "                              padding='max_length',\n",
        "                              stride=128,\n",
        "                              truncation='only_second',\n",
        "                              return_overflowing_tokens=True,\n",
        "                              return_offsets_mapping=True)\n",
        "\n",
        "\n",
        "  sample_mapping = tokenized_examples.pop(\"overflow_to_sample_mapping\")\n",
        "\n",
        "  offset_mapping = tokenized_examples.pop(\"offset_mapping\")\n",
        "\n",
        "  tokenized_examples[\"start_positions\"] = []\n",
        "  tokenized_examples[\"end_positions\"] = []\n",
        "\n",
        "  for i, offsets in enumerate(offset_mapping):\n",
        "      # We will label impossible answers with the index of the CLS token.\n",
        "      input_ids = tokenized_examples[\"input_ids\"][i]\n",
        "      cls_index = input_ids.index(tokenizer.cls_token_id)\n",
        "\n",
        "      # Grab the sequence corresponding to that example (to know what is the context and what is the question).\n",
        "      sequence_ids = tokenized_examples.sequence_ids(i)\n",
        "\n",
        "      # One example can give several spans, this is the index of the example containing this span of text.\n",
        "      sample_index = sample_mapping[i]\n",
        "      answers = labels[sample_index]\n",
        "      # If no answers are given, set the cls_index as answer.\n",
        "      if len(answers) == 0:\n",
        "          tokenized_examples[\"start_positions\"].append(cls_index)\n",
        "          tokenized_examples[\"end_positions\"].append(cls_index)\n",
        "      else:\n",
        "          # Start/end character index of the answer in the text.\n",
        "          start_char = answers[0]\n",
        "          end_char = answers[1]\n",
        "\n",
        "          # Start token index of the current span in the text.\n",
        "          token_start_index = 0\n",
        "          while sequence_ids[token_start_index] != (1 if pad_on_right else 0):\n",
        "              token_start_index += 1\n",
        "\n",
        "          # End token index of the current span in the text.\n",
        "          token_end_index = len(input_ids) - 1\n",
        "          while sequence_ids[token_end_index] != (1 if pad_on_right else 0):\n",
        "              token_end_index -= 1\n",
        "\n",
        "          # Detect if the answer is out of the span (in which case this feature is labeled with the CLS index).\n",
        "          if not (offsets[token_start_index][0] <= start_char and offsets[token_end_index][1] >= end_char):\n",
        "              tokenized_examples[\"start_positions\"].append(cls_index)\n",
        "              tokenized_examples[\"end_positions\"].append(cls_index)\n",
        "          else:\n",
        "              # Otherwise move the token_start_index and token_end_index to the two ends of the answer.\n",
        "              # Note: we could go after the last offset if the answer is the last word (edge case).\n",
        "              while token_start_index < len(offsets) and offsets[token_start_index][0] <= start_char:\n",
        "                  token_start_index += 1\n",
        "              tokenized_examples[\"start_positions\"].append(token_start_index - 1)\n",
        "              while offsets[token_end_index][1] >= end_char:\n",
        "                  token_end_index -= 1\n",
        "              tokenized_examples[\"end_positions\"].append(token_end_index + 1)\n",
        "\n",
        "  return tokenized_examples"
      ],
      "execution_count": null,
      "outputs": []
    },
    {
      "cell_type": "code",
      "metadata": {
        "id": "hoS8JmHn-LYo",
        "colab": {
          "base_uri": "https://localhost:8080/"
        },
        "outputId": "8ac37f94-803a-4d61-86b2-e0e23ffca43e"
      },
      "source": [
        "train_data = prepare_train_features(texts=train_text,questions=train_query, labels=answers)\n",
        "# validation_data = prepare_train_features(texts=valid_text,questions=valid_queries, labels=val_answers)\n",
        "del train_text, train_query\n",
        "print('train data: {}'.format(len(train_data['input_ids'])))"
      ],
      "execution_count": null,
      "outputs": [
        {
          "output_type": "stream",
          "text": [
            "train data: 51594\n"
          ],
          "name": "stdout"
        }
      ]
    },
    {
      "cell_type": "code",
      "metadata": {
        "id": "ETl-sY5cyJUq"
      },
      "source": [
        "train_inputs = torch.tensor(train_data['input_ids'], dtype=torch.long)\n",
        "train_mask = torch.tensor(train_data['attention_mask'], dtype=torch.long)\n",
        "start_score = torch.tensor(train_data['start_positions'], dtype=torch.long)\n",
        "end_score = torch.tensor(train_data['end_positions'], dtype=torch.long)\n",
        "\n",
        "training_data = TensorDataset(train_inputs, train_mask, start_score, end_score)\n",
        "del train_data\n",
        "train_dataloader = DataLoader(\n",
        "    training_data,\n",
        "    sampler=SequentialSampler(training_data),\n",
        "    batch_size=8)"
      ],
      "execution_count": null,
      "outputs": []
    },
    {
      "cell_type": "code",
      "metadata": {
        "id": "DBUqx1Nhxv-8"
      },
      "source": [
        "# args = TrainingArguments(\n",
        "#     f\"test-squad\",\n",
        "#     evaluation_strategy = \"epoch\",\n",
        "#     learning_rate=2e-5,\n",
        "#     per_device_train_batch_size=8,\n",
        "#     per_device_eval_batch_size=8,\n",
        "#     num_train_epochs=3,\n",
        "#     weight_decay=0.01,\n",
        "# )"
      ],
      "execution_count": null,
      "outputs": []
    },
    {
      "cell_type": "code",
      "metadata": {
        "colab": {
          "base_uri": "https://localhost:8080/"
        },
        "id": "v7OjcDlFA_ms",
        "outputId": "e3e533fd-4402-46ee-d29b-4a5dacf8393f"
      },
      "source": [
        "model = AutoModelForQuestionAnswering.from_pretrained(PATH)"
      ],
      "execution_count": null,
      "outputs": [
        {
          "output_type": "stream",
          "text": [
            "Some weights of BertForQuestionAnswering were not initialized from the model checkpoint at DeepPavlov/rubert-base-cased and are newly initialized: ['qa_outputs.bias', 'qa_outputs.weight']\n",
            "You should probably TRAIN this model on a down-stream task to be able to use it for predictions and inference.\n"
          ],
          "name": "stderr"
        }
      ]
    },
    {
      "cell_type": "code",
      "metadata": {
        "id": "3g-ekAaD2F9o"
      },
      "source": [
        "model.config.hidden_dropout_prob = 0.2\n",
        "model.config.attention_probs_dropout_prob = 0.3\n",
        "model.aux_logits = False"
      ],
      "execution_count": null,
      "outputs": []
    },
    {
      "cell_type": "code",
      "metadata": {
        "id": "_UUxEsik2ktS"
      },
      "source": [
        "steps_per_epoch = len(train_dataloader)\n",
        "optimizer = AdamW(model.parameters(), lr=2e-5, eps=1e-8)\n",
        "scheduler = get_cosine_schedule_with_warmup(optimizer, \n",
        "                                            num_warmup_steps=steps_per_epoch, \n",
        "                                            num_training_steps=steps_per_epoch * 2)"
      ],
      "execution_count": null,
      "outputs": []
    },
    {
      "cell_type": "code",
      "metadata": {
        "id": "hi9aSLS_CVr4"
      },
      "source": [
        "model.to(device)"
      ],
      "execution_count": null,
      "outputs": []
    },
    {
      "cell_type": "code",
      "metadata": {
        "id": "d_16qi1N3On0",
        "colab": {
          "base_uri": "https://localhost:8080/",
          "height": 330
        },
        "outputId": "f1c29898-31a6-430b-8a7f-c8d69935155d"
      },
      "source": [
        "from IPython.display import clear_output\n",
        "from tqdm import trange\n",
        "import time\n",
        "torch.cuda.empty_cache()\n",
        "start_logits, end_logits = [], []\n",
        "train_loss_set = []\n",
        "train_loss = 0\n",
        "# Обучение\n",
        "\n",
        "for epoch in trange(EPOCHS):\n",
        "\n",
        "  for step, batch in enumerate(train_dataloader):\n",
        "    model.train()\n",
        "    batch = tuple(t.to(device) for t in batch)\n",
        "    input_ids, mask, start, end = batch\n",
        "    #forward() method\n",
        "    preds = model(input_ids,attention_mask=mask,start_positions=start, end_positions=end)\n",
        "    loss = preds[0]\n",
        "    #runs backpropagation\n",
        "    loss.backward()\n",
        "    train_loss_set.append(loss)\n",
        "    optimizer.zero_grad()\n",
        "    optimizer.step()\n",
        "    scheduler.step()\n",
        "    #weight update\n",
        "    if step % 10 == 0:\n",
        "        clear_output()\n",
        "        plt.plot(train_loss_set, 'g')\n",
        "        plt.xlabel('STEP')\n",
        "        plt.ylabel('LOSS')\n",
        "        plt.show()\n",
        "\n",
        "    if not step%10:\n",
        "        print()\n",
        "        print(f\"Step: [{step} / {len(train_dataloader) // 2}], Loss: {loss.item()}, Time: {time.asctime()[10:-5]}\")\n",
        "    if step % 1000 == 0:\n",
        "      model.save_pretrained('bert_qa')\n",
        "        # model.eval()\n",
        "\n",
        "\n",
        "        # for batch in tqdm(validation_dataloader):   \n",
        "        #     # добавляем батч для вычисления на GPU\n",
        "        #     batch = tuple(t.to(device) for t in batch)\n",
        "            \n",
        "        #     # Распаковываем данные из dataloader\n",
        "        #     b_input_ids,valid_start, valid_end, b_input_mask = batch\n",
        "        #     start = torch.tensor([[i[0]] for i in labels], device=device).long()\n",
        "        #     end = torch.tensor([[i[1]] for i in labels], device=device).long()\n",
        "        #     # При использовании .no_grad() модель не будет считать и хранить градиенты.\n",
        "        #     # Это ускорит процесс предсказания меток для валидационных данных.\n",
        "        #     with torch.no_grad():\n",
        "        #         preds = model(b_input_ids, attention_mask=b_input_mask)\n",
        "        #     # Перемещаем logits и метки классов на CPU для дальнейшей работы\n",
        "        #     # preds = [key.detach().cpu().numpy() for key in preds[1:]]\n",
        "        #     start = preds['start_logits'].to('cpu').numpy()\n",
        "        #     end = preds['end_logits'].to('cpu').numpy()\n",
        "        #     start_logits.append(start)\n",
        "        #     end_logits.append(end)\n",
        "  # print(\"Loss на обучающей выборке: {0:.5f}\".format(train_loss / len(train_dataloader)))\n"
      ],
      "execution_count": null,
      "outputs": [
        {
          "output_type": "display_data",
          "data": {
            "image/png": "[encoded data removed]",
            "text/plain": [
              "<Figure size 432x288 with 1 Axes>"
            ]
          },
          "metadata": {
            "tags": [],
            "needs_background": "light"
          }
        },
        {
          "output_type": "stream",
          "text": [
            "\n",
            "Step: [6440 / 3225], Loss: 6.091729164123535, Time:  13:50:44\n"
          ],
          "name": "stdout"
        },
        {
          "output_type": "stream",
          "text": [
            "100%|██████████| 1/1 [50:58<00:00, 3058.76s/it]\n"
          ],
          "name": "stderr"
        }
      ]
    },
    {
      "cell_type": "code",
      "metadata": {
        "id": "1-7hcs8zc1IA"
      },
      "source": [
        "torch.save(model.state_dict(), 'bert-qa')"
      ],
      "execution_count": null,
      "outputs": []
    },
    {
      "cell_type": "code",
      "metadata": {
        "id": "XkyYpnWVeepW"
      },
      "source": [
        ""
      ],
      "execution_count": null,
      "outputs": []
    },
    {
      "cell_type": "code",
      "metadata": {
        "id": "fBoLV4SoH8Qi"
      },
      "source": [
        "with open('test.jsonl', 'r', encoding='utf-8') as data:\n",
        "  dat = list(data)\n",
        "val_ids = []\n",
        "val_answers = []\n",
        "valid_text = []\n",
        "valid_queries = []\n",
        "length = []\n",
        "for example in dat:\n",
        "  ex = json.loads(example)\n",
        "  text = ex['passage']['text']\n",
        "  val_ids.append(ex['idx'])\n",
        "  query = ex['qas'][0]['query']\n",
        "  # length.append(len(tokenizer.tokenize(text)))\n",
        "  # for ans in ex['text']['entities']:\n",
        "    #  val_answers.append([ans['start'], ans['end']])\n",
        "  valid_text.append(text)\n",
        "  valid_queries.append(query)"
      ],
      "execution_count": null,
      "outputs": []
    },
    {
      "cell_type": "code",
      "metadata": {
        "id": "OKjhpYEOD9HC"
      },
      "source": [
        "def prepare_(questions, texts, ids):\n",
        "    # Tokenize our examples with truncation and maybe padding, but keep the overflows using a stride. This results\n",
        "    # in one example possible giving several features when a context is long, each of those features having a\n",
        "    # context that overlaps a bit the context of the previous feature.\n",
        "    tokenized_examples = tokenizer(\n",
        "        questions,\n",
        "        texts,\n",
        "        truncation=\"only_second\" ,\n",
        "        max_length=512,\n",
        "        stride=128,\n",
        "        return_overflowing_tokens=True,\n",
        "        return_offsets_mapping=True,\n",
        "        padding=\"max_length\",\n",
        "    )\n",
        "\n",
        "    # Since one example might give us several features if it has a long context, we need a map from a feature to\n",
        "    # its corresponding example. This key gives us just that.\n",
        "    sample_mapping = tokenized_examples.pop(\"overflow_to_sample_mapping\")\n",
        "\n",
        "    # We keep the example_id that gave us this feature and we will store the offset mappings.\n",
        "    tokenized_examples[\"example_id\"] = []\n",
        "\n",
        "    for i in range(len(tokenized_examples[\"input_ids\"])):\n",
        "        # Grab the sequence corresponding to that example (to know what is the context and what is the question).\n",
        "        sequence_ids = tokenized_examples.sequence_ids(i)\n",
        "        context_index = 1 if pad_on_right else 0\n",
        "\n",
        "        # One example can give several spans, this is the index of the example containing this span of text.\n",
        "        sample_index = sample_mapping[i]\n",
        "        tokenized_examples[\"example_id\"].append(examples[\"id\"][sample_index])\n",
        "\n",
        "        # Set to None the offset_mapping that are not part of the context so it's easy to determine if a token\n",
        "        # position is part of the context or not.\n",
        "        tokenized_examples[\"offset_mapping\"][i] = [\n",
        "            (o if sequence_ids[k] == context_index else None)\n",
        "            for k, o in enumerate(tokenized_examples[\"offset_mapping\"][i])\n",
        "        ]\n",
        "\n",
        "    return tokenized_examples"
      ],
      "execution_count": null,
      "outputs": []
    },
    {
      "cell_type": "code",
      "metadata": {
        "id": "YVBfqrMrZXXa",
        "colab": {
          "base_uri": "https://localhost:8080/",
          "height": 162
        },
        "outputId": "c7eccb26-1ad8-40cb-e934-940ffa84e7c7"
      },
      "source": [
        "validation_features = prepare(valid_queries, valid_text, val_ids)"
      ],
      "execution_count": null,
      "outputs": [
        {
          "output_type": "error",
          "ename": "NameError",
          "evalue": "ignored",
          "traceback": [
            "\u001b[0;31m---------------------------------------------------------------------------\u001b[0m",
            "\u001b[0;31mNameError\u001b[0m                                 Traceback (most recent call last)",
            "\u001b[0;32m<ipython-input-2-9b04beda4547>\u001b[0m in \u001b[0;36m<module>\u001b[0;34m()\u001b[0m\n\u001b[0;32m----> 1\u001b[0;31m \u001b[0mvalidation_features\u001b[0m \u001b[0;34m=\u001b[0m \u001b[0mprepare\u001b[0m\u001b[0;34m(\u001b[0m\u001b[0mvalid_queries\u001b[0m\u001b[0;34m,\u001b[0m \u001b[0mvalid_text\u001b[0m\u001b[0;34m,\u001b[0m \u001b[0mval_ids\u001b[0m\u001b[0;34m)\u001b[0m\u001b[0;34m\u001b[0m\u001b[0;34m\u001b[0m\u001b[0m\n\u001b[0m",
            "\u001b[0;31mNameError\u001b[0m: name 'prepare' is not defined"
          ]
        }
      ]
    },
    {
      "cell_type": "code",
      "metadata": {
        "id": "c3_35Bi0IHyh"
      },
      "source": [
        "validation_inputs = torch.tensor(validation_data['input_ids'], dtype=torch.long)\n",
        "# validation_start = torch.tensor(validation_data['start_positions'], dtype=torch.long)\n",
        "# validation_end = torch.tensor(validation_data['end_positions'], dtype=torch.long)\n",
        "validation_mask = torch.tensor(validation_data['attention_mask'], dtype=torch.long)\n",
        "\n",
        "valid_data = TensorDataset(validation_inputs,validation_mask)\n",
        "validation_dataloader = val_sampler = SequentialSampler(valid_data)\n",
        "validation_dataloader = DataLoader(\n",
        "    valid_data,\n",
        "    sampler=val_sampler,\n",
        "    batch_size=4)"
      ],
      "execution_count": null,
      "outputs": []
    },
    {
      "cell_type": "code",
      "metadata": {
        "id": "PS7BePrgHnx_"
      },
      "source": [
        "model.eval()\n",
        "start_logits, end_logits = [], []\n",
        "for batch in tqdm(validation_dataloader):   \n",
        "    # добавляем батч для вычисления на GPU\n",
        "    batch = tuple(t.to(device) for t in batch)\n",
        "    \n",
        "    # Распаковываем данные из dataloader\n",
        "    b_input_ids,valid_start, valid_end, b_input_mask = batch\n",
        "    start = torch.tensor([[i[0]] for i in labels], device=device).long()\n",
        "    end = torch.tensor([[i[1]] for i in labels], device=device).long()\n",
        "    # При использовании .no_grad() модель не будет считать и хранить градиенты.\n",
        "    # Это ускорит процесс предсказания меток для валидационных данных.\n",
        "    with torch.no_grad():\n",
        "        preds = model(b_input_ids, attention_mask=b_input_mask)\n",
        "    # Перемещаем logits и метки классов на CPU для дальнейшей работы\n",
        "    # preds = [key.detach().cpu().numpy() for key in preds[1:]]\n",
        "    start = preds['start_logits'].to('cpu').numpy()\n",
        "    end = preds['end_logits'].to('cpu').numpy()\n",
        "    start_logits.append(start)\n",
        "    end_logits.append(end)\n"
      ],
      "execution_count": null,
      "outputs": []
    },
    {
      "cell_type": "code",
      "metadata": {
        "id": "hOafnS9ac8Jg"
      },
      "source": [
        "from tqdm.auto import tqdm\n",
        "\n",
        "def postprocess_qa_predictions(examples, features, raw_predictions, n_best_size = 20, max_answer_length = 30):\n",
        "    all_start_logits, all_end_logits = start_logits, end_logits\n",
        "    # Build a map example to its corresponding features.\n",
        "    example_id_to_index = {k: i for i, k in enumerate(examples[\"id\"])}\n",
        "    features_per_example = collections.defaultdict(list)\n",
        "    for i, feature in enumerate(features):\n",
        "        features_per_example[example_id_to_index[feature[\"example_id\"]]].append(i)\n",
        "\n",
        "    # The dictionaries we have to fill.\n",
        "    predictions = collections.OrderedDict()\n",
        "\n",
        "    # Logging.\n",
        "    print(f\"Post-processing {len(examples)} example predictions split into {len(features)} features.\")\n",
        "\n",
        "    # Let's loop over all the examples!\n",
        "    for example_index, example in enumerate(tqdm(examples)):\n",
        "        # Those are the indices of the features associated to the current example.\n",
        "        feature_indices = features_per_example[example_index]\n",
        "\n",
        "        min_null_score = None # Only used if squad_v2 is True.\n",
        "        valid_answers = []\n",
        "        \n",
        "        context = example[\"context\"]\n",
        "        # Looping through all the features associated to the current example.\n",
        "        for feature_index in feature_indices:\n",
        "            # We grab the predictions of the model for this feature.\n",
        "            start_logits = all_start_logits[feature_index]\n",
        "            end_logits = all_end_logits[feature_index]\n",
        "            # This is what will allow us to map some the positions in our logits to span of texts in the original\n",
        "            # context.\n",
        "            offset_mapping = features[feature_index][\"offset_mapping\"]\n",
        "\n",
        "            # Update minimum null prediction.\n",
        "            cls_index = features[feature_index][\"input_ids\"].index(tokenizer.cls_token_id)\n",
        "            feature_null_score = start_logits[cls_index] + end_logits[cls_index]\n",
        "            if min_null_score is None or min_null_score < feature_null_score:\n",
        "                min_null_score = feature_null_score\n",
        "\n",
        "            # Go through all possibilities for the `n_best_size` greater start and end logits.\n",
        "            start_indexes = np.argsort(start_logits)[-1 : -n_best_size - 1 : -1].tolist()\n",
        "            end_indexes = np.argsort(end_logits)[-1 : -n_best_size - 1 : -1].tolist()\n",
        "            for start_index in start_indexes:\n",
        "                for end_index in end_indexes:\n",
        "                    # Don't consider out-of-scope answers, either because the indices are out of bounds or correspond\n",
        "                    # to part of the input_ids that are not in the context.\n",
        "                    if (\n",
        "                        start_index >= len(offset_mapping)\n",
        "                        or end_index >= len(offset_mapping)\n",
        "                        or offset_mapping[start_index] is None\n",
        "                        or offset_mapping[end_index] is None\n",
        "                    ):\n",
        "                        continue\n",
        "                    # Don't consider answers with a length that is either < 0 or > max_answer_length.\n",
        "                    if end_index < start_index or end_index - start_index + 1 > max_answer_length:\n",
        "                        continue\n",
        "\n",
        "                    start_char = offset_mapping[start_index][0]\n",
        "                    end_char = offset_mapping[end_index][1]\n",
        "                    valid_answers.append(\n",
        "                        {\n",
        "                            \"score\": start_logits[start_index] + end_logits[end_index],\n",
        "                            \"text\": context[start_char: end_char]\n",
        "                        }\n",
        "                    )\n",
        "        \n",
        "        if len(valid_answers) > 0:\n",
        "            best_answer = sorted(valid_answers, key=lambda x: x[\"score\"], reverse=True)[0]\n",
        "        else:\n",
        "            # In the very rare edge case we have not a single non-null prediction, we create a fake prediction to avoid\n",
        "            # failure.\n",
        "            best_answer = {\"text\": \"\", \"score\": 0.0}\n",
        "        \n",
        "        # Let's pick our final answer: the best one or the null answer (only for squad_v2)\n",
        "        if not squad_v2:\n",
        "            predictions[example[\"id\"]] = best_answer[\"text\"]\n",
        "        else:\n",
        "            answer = best_answer[\"text\"] if best_answer[\"score\"] > min_null_score else \"\"\n",
        "            predictions[example[\"id\"]] = answer\n",
        "\n",
        "    return predictions"
      ],
      "execution_count": null,
      "outputs": []
    },
    {
      "cell_type": "code",
      "metadata": {
        "id": "__RsWVXau3F-"
      },
      "source": [
        ""
      ],
      "execution_count": null,
      "outputs": []
    }
  ]
}